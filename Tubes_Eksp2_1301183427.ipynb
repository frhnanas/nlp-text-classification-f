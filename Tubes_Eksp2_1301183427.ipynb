{
  "nbformat": 4,
  "nbformat_minor": 0,
  "metadata": {
    "colab": {
      "provenance": []
    },
    "kernelspec": {
      "name": "python3",
      "display_name": "Python 3"
    },
    "language_info": {
      "name": "python"
    }
  },
  "cells": [
    {
      "cell_type": "markdown",
      "source": [
        "#Farhan Anas\n",
        "#1301183427\n",
        "#IF-42-GAB"
      ],
      "metadata": {
        "id": "VdlsuzhU3L0i"
      }
    },
    {
      "cell_type": "code",
      "execution_count": null,
      "metadata": {
        "id": "_lNrbEVcNqwD"
      },
      "outputs": [],
      "source": [
        "import pandas as pd\n",
        "import numpy as np\n",
        "from time import time\n",
        "import nltk\n",
        "import re\n",
        "from nltk.tokenize import word_tokenize\n",
        "from nltk.probability import FreqDist\n",
        "from nltk.stem import WordNetLemmatizer , PorterStemmer\n",
        "from nltk.corpus import stopwords\n",
        "import plotly.express as px\n",
        "import warnings\n",
        "warnings.simplefilter(action='ignore', category=FutureWarning)\n",
        "%matplotlib inline"
      ]
    },
    {
      "cell_type": "code",
      "source": [
        "nltk.download('punkt')\n",
        "nltk.download('wordnet')\n",
        "nltk.download('stopwords')\n",
        "nltk.download('averaged_perceptron_tagger')"
      ],
      "metadata": {
        "colab": {
          "base_uri": "https://localhost:8080/"
        },
        "id": "cpQotIngNwoE",
        "outputId": "cbdcc9f7-6db5-433d-a5a2-464ca52720c1"
      },
      "execution_count": null,
      "outputs": [
        {
          "output_type": "stream",
          "name": "stdout",
          "text": [
            "[nltk_data] Downloading package punkt to /root/nltk_data...\n",
            "[nltk_data]   Package punkt is already up-to-date!\n",
            "[nltk_data] Downloading package wordnet to /root/nltk_data...\n",
            "[nltk_data]   Package wordnet is already up-to-date!\n",
            "[nltk_data] Downloading package stopwords to /root/nltk_data...\n",
            "[nltk_data]   Package stopwords is already up-to-date!\n",
            "[nltk_data] Downloading package averaged_perceptron_tagger to\n",
            "[nltk_data]     /root/nltk_data...\n",
            "[nltk_data]   Package averaged_perceptron_tagger is already up-to-\n",
            "[nltk_data]       date!\n"
          ]
        },
        {
          "output_type": "execute_result",
          "data": {
            "text/plain": [
              "True"
            ]
          },
          "metadata": {},
          "execution_count": 107
        }
      ]
    },
    {
      "cell_type": "code",
      "source": [
        "from google.colab import drive\n",
        "drive.mount('/content/drive')"
      ],
      "metadata": {
        "colab": {
          "base_uri": "https://localhost:8080/"
        },
        "id": "stvwTKa4Nyn-",
        "outputId": "7e8dd27d-70b7-4575-dd0e-e5070444ad49"
      },
      "execution_count": null,
      "outputs": [
        {
          "output_type": "stream",
          "name": "stdout",
          "text": [
            "Drive already mounted at /content/drive; to attempt to forcibly remount, call drive.mount(\"/content/drive\", force_remount=True).\n"
          ]
        }
      ]
    },
    {
      "cell_type": "markdown",
      "source": [
        "# Data Exploration"
      ],
      "metadata": {
        "id": "Eldv6GqS2YBb"
      }
    },
    {
      "cell_type": "code",
      "source": [
        "df = pd.read_csv(\"/content/drive/MyDrive/nlp/universal_studio_branches.csv\")\n",
        "df"
      ],
      "metadata": {
        "colab": {
          "base_uri": "https://localhost:8080/",
          "height": 1000
        },
        "id": "qQlpm0HRN2qW",
        "outputId": "6885307c-51f9-40c5-c073-f6e1bb448941"
      },
      "execution_count": null,
      "outputs": [
        {
          "output_type": "execute_result",
          "data": {
            "text/html": [
              "\n",
              "  <div id=\"df-7355650c-2f58-402f-8476-904fe19a4312\">\n",
              "    <div class=\"colab-df-container\">\n",
              "      <div>\n",
              "<style scoped>\n",
              "    .dataframe tbody tr th:only-of-type {\n",
              "        vertical-align: middle;\n",
              "    }\n",
              "\n",
              "    .dataframe tbody tr th {\n",
              "        vertical-align: top;\n",
              "    }\n",
              "\n",
              "    .dataframe thead th {\n",
              "        text-align: right;\n",
              "    }\n",
              "</style>\n",
              "<table border=\"1\" class=\"dataframe\">\n",
              "  <thead>\n",
              "    <tr style=\"text-align: right;\">\n",
              "      <th></th>\n",
              "      <th>reviewer</th>\n",
              "      <th>rating</th>\n",
              "      <th>written_date</th>\n",
              "      <th>title</th>\n",
              "      <th>review_text</th>\n",
              "      <th>branch</th>\n",
              "    </tr>\n",
              "  </thead>\n",
              "  <tbody>\n",
              "    <tr>\n",
              "      <th>0</th>\n",
              "      <td>Kelly B</td>\n",
              "      <td>2.0</td>\n",
              "      <td>May 30, 2021</td>\n",
              "      <td>Universal is a complete Disaster - stick with ...</td>\n",
              "      <td>We went to Universal over Memorial Day weekend...</td>\n",
              "      <td>Universal Studios Florida</td>\n",
              "    </tr>\n",
              "    <tr>\n",
              "      <th>1</th>\n",
              "      <td>Jon</td>\n",
              "      <td>1.0</td>\n",
              "      <td>May 30, 2021</td>\n",
              "      <td>Food is hard to get.</td>\n",
              "      <td>The food service is horrible. I’m not reviewin...</td>\n",
              "      <td>Universal Studios Florida</td>\n",
              "    </tr>\n",
              "    <tr>\n",
              "      <th>2</th>\n",
              "      <td>Nerdy P</td>\n",
              "      <td>2.0</td>\n",
              "      <td>May 30, 2021</td>\n",
              "      <td>Disappointed</td>\n",
              "      <td>I booked this vacation mainly to ride Hagrid m...</td>\n",
              "      <td>Universal Studios Florida</td>\n",
              "    </tr>\n",
              "    <tr>\n",
              "      <th>3</th>\n",
              "      <td>ran101278</td>\n",
              "      <td>4.0</td>\n",
              "      <td>May 29, 2021</td>\n",
              "      <td>My opinion</td>\n",
              "      <td>When a person tries the test seat for the ride...</td>\n",
              "      <td>Universal Studios Florida</td>\n",
              "    </tr>\n",
              "    <tr>\n",
              "      <th>4</th>\n",
              "      <td>tammies20132015</td>\n",
              "      <td>5.0</td>\n",
              "      <td>May 28, 2021</td>\n",
              "      <td>The Bourne Stuntacular...MUST SEE</td>\n",
              "      <td>Ok, I can't stress enough to anyone and everyo...</td>\n",
              "      <td>Universal Studios Florida</td>\n",
              "    </tr>\n",
              "    <tr>\n",
              "      <th>...</th>\n",
              "      <td>...</td>\n",
              "      <td>...</td>\n",
              "      <td>...</td>\n",
              "      <td>...</td>\n",
              "      <td>...</td>\n",
              "      <td>...</td>\n",
              "    </tr>\n",
              "    <tr>\n",
              "      <th>50899</th>\n",
              "      <td>vinz20</td>\n",
              "      <td>4.0</td>\n",
              "      <td>March 29, 2010</td>\n",
              "      <td>I'll Be Back Only If ...</td>\n",
              "      <td>This is my first visit to a Universal Studio t...</td>\n",
              "      <td>Universal Studios Singapore</td>\n",
              "    </tr>\n",
              "    <tr>\n",
              "      <th>50900</th>\n",
              "      <td>betty l</td>\n",
              "      <td>4.0</td>\n",
              "      <td>March 29, 2010</td>\n",
              "      <td>Universal Studios Singapore Experience</td>\n",
              "      <td>We finally visited Singapore's very first them...</td>\n",
              "      <td>Universal Studios Singapore</td>\n",
              "    </tr>\n",
              "    <tr>\n",
              "      <th>50901</th>\n",
              "      <td>spoonos65</td>\n",
              "      <td>4.0</td>\n",
              "      <td>March 28, 2010</td>\n",
              "      <td>Impressive but not quite finished!</td>\n",
              "      <td>We visited during the first week of its 'soft ...</td>\n",
              "      <td>Universal Studios Singapore</td>\n",
              "    </tr>\n",
              "    <tr>\n",
              "      <th>50902</th>\n",
              "      <td>HeatSeekerWrexham_UK</td>\n",
              "      <td>4.0</td>\n",
              "      <td>March 22, 2010</td>\n",
              "      <td>Small but beautifully marked</td>\n",
              "      <td>We visited on the 3rd day of the 'soft' openin...</td>\n",
              "      <td>Universal Studios Singapore</td>\n",
              "    </tr>\n",
              "    <tr>\n",
              "      <th>50903</th>\n",
              "      <td>sc_myinitial</td>\n",
              "      <td>5.0</td>\n",
              "      <td>February 24, 2010</td>\n",
              "      <td>Excellent Sneak Preview</td>\n",
              "      <td>My group managed to get the tickets for the 16...</td>\n",
              "      <td>Universal Studios Singapore</td>\n",
              "    </tr>\n",
              "  </tbody>\n",
              "</table>\n",
              "<p>50904 rows × 6 columns</p>\n",
              "</div>\n",
              "      <button class=\"colab-df-convert\" onclick=\"convertToInteractive('df-7355650c-2f58-402f-8476-904fe19a4312')\"\n",
              "              title=\"Convert this dataframe to an interactive table.\"\n",
              "              style=\"display:none;\">\n",
              "        \n",
              "  <svg xmlns=\"http://www.w3.org/2000/svg\" height=\"24px\"viewBox=\"0 0 24 24\"\n",
              "       width=\"24px\">\n",
              "    <path d=\"M0 0h24v24H0V0z\" fill=\"none\"/>\n",
              "    <path d=\"M18.56 5.44l.94 2.06.94-2.06 2.06-.94-2.06-.94-.94-2.06-.94 2.06-2.06.94zm-11 1L8.5 8.5l.94-2.06 2.06-.94-2.06-.94L8.5 2.5l-.94 2.06-2.06.94zm10 10l.94 2.06.94-2.06 2.06-.94-2.06-.94-.94-2.06-.94 2.06-2.06.94z\"/><path d=\"M17.41 7.96l-1.37-1.37c-.4-.4-.92-.59-1.43-.59-.52 0-1.04.2-1.43.59L10.3 9.45l-7.72 7.72c-.78.78-.78 2.05 0 2.83L4 21.41c.39.39.9.59 1.41.59.51 0 1.02-.2 1.41-.59l7.78-7.78 2.81-2.81c.8-.78.8-2.07 0-2.86zM5.41 20L4 18.59l7.72-7.72 1.47 1.35L5.41 20z\"/>\n",
              "  </svg>\n",
              "      </button>\n",
              "      \n",
              "  <style>\n",
              "    .colab-df-container {\n",
              "      display:flex;\n",
              "      flex-wrap:wrap;\n",
              "      gap: 12px;\n",
              "    }\n",
              "\n",
              "    .colab-df-convert {\n",
              "      background-color: #E8F0FE;\n",
              "      border: none;\n",
              "      border-radius: 50%;\n",
              "      cursor: pointer;\n",
              "      display: none;\n",
              "      fill: #1967D2;\n",
              "      height: 32px;\n",
              "      padding: 0 0 0 0;\n",
              "      width: 32px;\n",
              "    }\n",
              "\n",
              "    .colab-df-convert:hover {\n",
              "      background-color: #E2EBFA;\n",
              "      box-shadow: 0px 1px 2px rgba(60, 64, 67, 0.3), 0px 1px 3px 1px rgba(60, 64, 67, 0.15);\n",
              "      fill: #174EA6;\n",
              "    }\n",
              "\n",
              "    [theme=dark] .colab-df-convert {\n",
              "      background-color: #3B4455;\n",
              "      fill: #D2E3FC;\n",
              "    }\n",
              "\n",
              "    [theme=dark] .colab-df-convert:hover {\n",
              "      background-color: #434B5C;\n",
              "      box-shadow: 0px 1px 3px 1px rgba(0, 0, 0, 0.15);\n",
              "      filter: drop-shadow(0px 1px 2px rgba(0, 0, 0, 0.3));\n",
              "      fill: #FFFFFF;\n",
              "    }\n",
              "  </style>\n",
              "\n",
              "      <script>\n",
              "        const buttonEl =\n",
              "          document.querySelector('#df-7355650c-2f58-402f-8476-904fe19a4312 button.colab-df-convert');\n",
              "        buttonEl.style.display =\n",
              "          google.colab.kernel.accessAllowed ? 'block' : 'none';\n",
              "\n",
              "        async function convertToInteractive(key) {\n",
              "          const element = document.querySelector('#df-7355650c-2f58-402f-8476-904fe19a4312');\n",
              "          const dataTable =\n",
              "            await google.colab.kernel.invokeFunction('convertToInteractive',\n",
              "                                                     [key], {});\n",
              "          if (!dataTable) return;\n",
              "\n",
              "          const docLinkHtml = 'Like what you see? Visit the ' +\n",
              "            '<a target=\"_blank\" href=https://colab.research.google.com/notebooks/data_table.ipynb>data table notebook</a>'\n",
              "            + ' to learn more about interactive tables.';\n",
              "          element.innerHTML = '';\n",
              "          dataTable['output_type'] = 'display_data';\n",
              "          await google.colab.output.renderOutput(dataTable, element);\n",
              "          const docLink = document.createElement('div');\n",
              "          docLink.innerHTML = docLinkHtml;\n",
              "          element.appendChild(docLink);\n",
              "        }\n",
              "      </script>\n",
              "    </div>\n",
              "  </div>\n",
              "  "
            ],
            "text/plain": [
              "                   reviewer  ...                       branch\n",
              "0                   Kelly B  ...    Universal Studios Florida\n",
              "1                       Jon  ...    Universal Studios Florida\n",
              "2                   Nerdy P  ...    Universal Studios Florida\n",
              "3                 ran101278  ...    Universal Studios Florida\n",
              "4           tammies20132015  ...    Universal Studios Florida\n",
              "...                     ...  ...                          ...\n",
              "50899                vinz20  ...  Universal Studios Singapore\n",
              "50900               betty l  ...  Universal Studios Singapore\n",
              "50901             spoonos65  ...  Universal Studios Singapore\n",
              "50902  HeatSeekerWrexham_UK  ...  Universal Studios Singapore\n",
              "50903          sc_myinitial  ...  Universal Studios Singapore\n",
              "\n",
              "[50904 rows x 6 columns]"
            ]
          },
          "metadata": {},
          "execution_count": 109
        }
      ]
    },
    {
      "cell_type": "code",
      "source": [
        "df = df.drop(['reviewer', 'written_date', 'title', 'branch'], axis = 1)"
      ],
      "metadata": {
        "id": "jU_DJOuXLtNc"
      },
      "execution_count": null,
      "outputs": []
    },
    {
      "cell_type": "code",
      "source": [
        "def ubah_rating(rating):\n",
        "  if rating >=5:\n",
        "    return 1\n",
        "  else:\n",
        "    return 0"
      ],
      "metadata": {
        "id": "Dv8RBG7WIkz7"
      },
      "execution_count": null,
      "outputs": []
    },
    {
      "cell_type": "code",
      "source": [
        "df['sentiment'] = df.rating.apply(lambda x: ubah_rating(int(x)))\n",
        "df"
      ],
      "metadata": {
        "colab": {
          "base_uri": "https://localhost:8080/",
          "height": 423
        },
        "id": "ix8_UH2hI3W4",
        "outputId": "83138106-b0e5-47f8-90e9-50952b33959a"
      },
      "execution_count": null,
      "outputs": [
        {
          "output_type": "execute_result",
          "data": {
            "text/html": [
              "\n",
              "  <div id=\"df-280b0b5f-e7d4-486d-8fe0-b83ae6876e61\">\n",
              "    <div class=\"colab-df-container\">\n",
              "      <div>\n",
              "<style scoped>\n",
              "    .dataframe tbody tr th:only-of-type {\n",
              "        vertical-align: middle;\n",
              "    }\n",
              "\n",
              "    .dataframe tbody tr th {\n",
              "        vertical-align: top;\n",
              "    }\n",
              "\n",
              "    .dataframe thead th {\n",
              "        text-align: right;\n",
              "    }\n",
              "</style>\n",
              "<table border=\"1\" class=\"dataframe\">\n",
              "  <thead>\n",
              "    <tr style=\"text-align: right;\">\n",
              "      <th></th>\n",
              "      <th>rating</th>\n",
              "      <th>review_text</th>\n",
              "      <th>sentiment</th>\n",
              "    </tr>\n",
              "  </thead>\n",
              "  <tbody>\n",
              "    <tr>\n",
              "      <th>0</th>\n",
              "      <td>2.0</td>\n",
              "      <td>We went to Universal over Memorial Day weekend...</td>\n",
              "      <td>0</td>\n",
              "    </tr>\n",
              "    <tr>\n",
              "      <th>1</th>\n",
              "      <td>1.0</td>\n",
              "      <td>The food service is horrible. I’m not reviewin...</td>\n",
              "      <td>0</td>\n",
              "    </tr>\n",
              "    <tr>\n",
              "      <th>2</th>\n",
              "      <td>2.0</td>\n",
              "      <td>I booked this vacation mainly to ride Hagrid m...</td>\n",
              "      <td>0</td>\n",
              "    </tr>\n",
              "    <tr>\n",
              "      <th>3</th>\n",
              "      <td>4.0</td>\n",
              "      <td>When a person tries the test seat for the ride...</td>\n",
              "      <td>0</td>\n",
              "    </tr>\n",
              "    <tr>\n",
              "      <th>4</th>\n",
              "      <td>5.0</td>\n",
              "      <td>Ok, I can't stress enough to anyone and everyo...</td>\n",
              "      <td>1</td>\n",
              "    </tr>\n",
              "    <tr>\n",
              "      <th>...</th>\n",
              "      <td>...</td>\n",
              "      <td>...</td>\n",
              "      <td>...</td>\n",
              "    </tr>\n",
              "    <tr>\n",
              "      <th>50899</th>\n",
              "      <td>4.0</td>\n",
              "      <td>This is my first visit to a Universal Studio t...</td>\n",
              "      <td>0</td>\n",
              "    </tr>\n",
              "    <tr>\n",
              "      <th>50900</th>\n",
              "      <td>4.0</td>\n",
              "      <td>We finally visited Singapore's very first them...</td>\n",
              "      <td>0</td>\n",
              "    </tr>\n",
              "    <tr>\n",
              "      <th>50901</th>\n",
              "      <td>4.0</td>\n",
              "      <td>We visited during the first week of its 'soft ...</td>\n",
              "      <td>0</td>\n",
              "    </tr>\n",
              "    <tr>\n",
              "      <th>50902</th>\n",
              "      <td>4.0</td>\n",
              "      <td>We visited on the 3rd day of the 'soft' openin...</td>\n",
              "      <td>0</td>\n",
              "    </tr>\n",
              "    <tr>\n",
              "      <th>50903</th>\n",
              "      <td>5.0</td>\n",
              "      <td>My group managed to get the tickets for the 16...</td>\n",
              "      <td>1</td>\n",
              "    </tr>\n",
              "  </tbody>\n",
              "</table>\n",
              "<p>50904 rows × 3 columns</p>\n",
              "</div>\n",
              "      <button class=\"colab-df-convert\" onclick=\"convertToInteractive('df-280b0b5f-e7d4-486d-8fe0-b83ae6876e61')\"\n",
              "              title=\"Convert this dataframe to an interactive table.\"\n",
              "              style=\"display:none;\">\n",
              "        \n",
              "  <svg xmlns=\"http://www.w3.org/2000/svg\" height=\"24px\"viewBox=\"0 0 24 24\"\n",
              "       width=\"24px\">\n",
              "    <path d=\"M0 0h24v24H0V0z\" fill=\"none\"/>\n",
              "    <path d=\"M18.56 5.44l.94 2.06.94-2.06 2.06-.94-2.06-.94-.94-2.06-.94 2.06-2.06.94zm-11 1L8.5 8.5l.94-2.06 2.06-.94-2.06-.94L8.5 2.5l-.94 2.06-2.06.94zm10 10l.94 2.06.94-2.06 2.06-.94-2.06-.94-.94-2.06-.94 2.06-2.06.94z\"/><path d=\"M17.41 7.96l-1.37-1.37c-.4-.4-.92-.59-1.43-.59-.52 0-1.04.2-1.43.59L10.3 9.45l-7.72 7.72c-.78.78-.78 2.05 0 2.83L4 21.41c.39.39.9.59 1.41.59.51 0 1.02-.2 1.41-.59l7.78-7.78 2.81-2.81c.8-.78.8-2.07 0-2.86zM5.41 20L4 18.59l7.72-7.72 1.47 1.35L5.41 20z\"/>\n",
              "  </svg>\n",
              "      </button>\n",
              "      \n",
              "  <style>\n",
              "    .colab-df-container {\n",
              "      display:flex;\n",
              "      flex-wrap:wrap;\n",
              "      gap: 12px;\n",
              "    }\n",
              "\n",
              "    .colab-df-convert {\n",
              "      background-color: #E8F0FE;\n",
              "      border: none;\n",
              "      border-radius: 50%;\n",
              "      cursor: pointer;\n",
              "      display: none;\n",
              "      fill: #1967D2;\n",
              "      height: 32px;\n",
              "      padding: 0 0 0 0;\n",
              "      width: 32px;\n",
              "    }\n",
              "\n",
              "    .colab-df-convert:hover {\n",
              "      background-color: #E2EBFA;\n",
              "      box-shadow: 0px 1px 2px rgba(60, 64, 67, 0.3), 0px 1px 3px 1px rgba(60, 64, 67, 0.15);\n",
              "      fill: #174EA6;\n",
              "    }\n",
              "\n",
              "    [theme=dark] .colab-df-convert {\n",
              "      background-color: #3B4455;\n",
              "      fill: #D2E3FC;\n",
              "    }\n",
              "\n",
              "    [theme=dark] .colab-df-convert:hover {\n",
              "      background-color: #434B5C;\n",
              "      box-shadow: 0px 1px 3px 1px rgba(0, 0, 0, 0.15);\n",
              "      filter: drop-shadow(0px 1px 2px rgba(0, 0, 0, 0.3));\n",
              "      fill: #FFFFFF;\n",
              "    }\n",
              "  </style>\n",
              "\n",
              "      <script>\n",
              "        const buttonEl =\n",
              "          document.querySelector('#df-280b0b5f-e7d4-486d-8fe0-b83ae6876e61 button.colab-df-convert');\n",
              "        buttonEl.style.display =\n",
              "          google.colab.kernel.accessAllowed ? 'block' : 'none';\n",
              "\n",
              "        async function convertToInteractive(key) {\n",
              "          const element = document.querySelector('#df-280b0b5f-e7d4-486d-8fe0-b83ae6876e61');\n",
              "          const dataTable =\n",
              "            await google.colab.kernel.invokeFunction('convertToInteractive',\n",
              "                                                     [key], {});\n",
              "          if (!dataTable) return;\n",
              "\n",
              "          const docLinkHtml = 'Like what you see? Visit the ' +\n",
              "            '<a target=\"_blank\" href=https://colab.research.google.com/notebooks/data_table.ipynb>data table notebook</a>'\n",
              "            + ' to learn more about interactive tables.';\n",
              "          element.innerHTML = '';\n",
              "          dataTable['output_type'] = 'display_data';\n",
              "          await google.colab.output.renderOutput(dataTable, element);\n",
              "          const docLink = document.createElement('div');\n",
              "          docLink.innerHTML = docLinkHtml;\n",
              "          element.appendChild(docLink);\n",
              "        }\n",
              "      </script>\n",
              "    </div>\n",
              "  </div>\n",
              "  "
            ],
            "text/plain": [
              "       rating                                        review_text  sentiment\n",
              "0         2.0  We went to Universal over Memorial Day weekend...          0\n",
              "1         1.0  The food service is horrible. I’m not reviewin...          0\n",
              "2         2.0  I booked this vacation mainly to ride Hagrid m...          0\n",
              "3         4.0  When a person tries the test seat for the ride...          0\n",
              "4         5.0  Ok, I can't stress enough to anyone and everyo...          1\n",
              "...       ...                                                ...        ...\n",
              "50899     4.0  This is my first visit to a Universal Studio t...          0\n",
              "50900     4.0  We finally visited Singapore's very first them...          0\n",
              "50901     4.0  We visited during the first week of its 'soft ...          0\n",
              "50902     4.0  We visited on the 3rd day of the 'soft' openin...          0\n",
              "50903     5.0  My group managed to get the tickets for the 16...          1\n",
              "\n",
              "[50904 rows x 3 columns]"
            ]
          },
          "metadata": {},
          "execution_count": 112
        }
      ]
    },
    {
      "cell_type": "code",
      "source": [
        "fig = px.bar(df.groupby('sentiment').size().reset_index(name='count'),\n",
        "             x='sentiment', y='count', width=480, height=480,\n",
        "             barmode='group', title='Distribusi label')\n",
        "fig.show(renderer='colab')"
      ],
      "metadata": {
        "colab": {
          "base_uri": "https://localhost:8080/",
          "height": 497
        },
        "id": "Odnrv5T-b9Du",
        "outputId": "8b87610a-8f5f-47c0-c0a5-d018b7c890a5"
      },
      "execution_count": null,
      "outputs": [
        {
          "output_type": "display_data",
          "data": {
            "text/html": [
              "<html>\n",
              "<head><meta charset=\"utf-8\" /></head>\n",
              "<body>\n",
              "    <div>\n",
              "            <script src=\"https://cdnjs.cloudflare.com/ajax/libs/mathjax/2.7.5/MathJax.js?config=TeX-AMS-MML_SVG\"></script><script type=\"text/javascript\">if (window.MathJax) {MathJax.Hub.Config({SVG: {font: \"STIX-Web\"}});}</script>\n",
              "                <script type=\"text/javascript\">window.PlotlyConfig = {MathJaxConfig: 'local'};</script>\n",
              "        <script src=\"https://cdn.plot.ly/plotly-latest.min.js\"></script>    \n",
              "            <div id=\"8de23425-ee1a-447a-a34f-b477abe10f9f\" class=\"plotly-graph-div\" style=\"height:480px; width:480px;\"></div>\n",
              "            <script type=\"text/javascript\">\n",
              "                \n",
              "                    window.PLOTLYENV=window.PLOTLYENV || {};\n",
              "                    \n",
              "                if (document.getElementById(\"8de23425-ee1a-447a-a34f-b477abe10f9f\")) {\n",
              "                    Plotly.newPlot(\n",
              "                        '8de23425-ee1a-447a-a34f-b477abe10f9f',\n",
              "                        [{\"alignmentgroup\": \"True\", \"hoverlabel\": {\"namelength\": 0}, \"hovertemplate\": \"sentiment=%{x}<br>count=%{y}\", \"legendgroup\": \"\", \"marker\": {\"color\": \"#636efa\"}, \"name\": \"\", \"offsetgroup\": \"\", \"orientation\": \"v\", \"showlegend\": false, \"textposition\": \"auto\", \"type\": \"bar\", \"x\": [0, 1], \"xaxis\": \"x\", \"y\": [22702, 28202], \"yaxis\": \"y\"}],\n",
              "                        {\"barmode\": \"group\", \"height\": 480, \"legend\": {\"tracegroupgap\": 0}, \"template\": {\"data\": {\"bar\": [{\"error_x\": {\"color\": \"#2a3f5f\"}, \"error_y\": {\"color\": \"#2a3f5f\"}, \"marker\": {\"line\": {\"color\": \"#E5ECF6\", \"width\": 0.5}}, \"type\": \"bar\"}], \"barpolar\": [{\"marker\": {\"line\": {\"color\": \"#E5ECF6\", \"width\": 0.5}}, \"type\": \"barpolar\"}], \"carpet\": [{\"aaxis\": {\"endlinecolor\": \"#2a3f5f\", \"gridcolor\": \"white\", \"linecolor\": \"white\", \"minorgridcolor\": \"white\", \"startlinecolor\": \"#2a3f5f\"}, \"baxis\": {\"endlinecolor\": \"#2a3f5f\", \"gridcolor\": \"white\", \"linecolor\": \"white\", \"minorgridcolor\": \"white\", \"startlinecolor\": \"#2a3f5f\"}, \"type\": \"carpet\"}], \"choropleth\": [{\"colorbar\": {\"outlinewidth\": 0, \"ticks\": \"\"}, \"type\": \"choropleth\"}], \"contour\": [{\"colorbar\": {\"outlinewidth\": 0, \"ticks\": \"\"}, \"colorscale\": [[0.0, \"#0d0887\"], [0.1111111111111111, \"#46039f\"], [0.2222222222222222, \"#7201a8\"], [0.3333333333333333, \"#9c179e\"], [0.4444444444444444, \"#bd3786\"], [0.5555555555555556, \"#d8576b\"], [0.6666666666666666, \"#ed7953\"], [0.7777777777777778, \"#fb9f3a\"], [0.8888888888888888, \"#fdca26\"], [1.0, \"#f0f921\"]], \"type\": \"contour\"}], \"contourcarpet\": [{\"colorbar\": {\"outlinewidth\": 0, \"ticks\": \"\"}, \"type\": \"contourcarpet\"}], \"heatmap\": [{\"colorbar\": {\"outlinewidth\": 0, \"ticks\": \"\"}, \"colorscale\": [[0.0, \"#0d0887\"], [0.1111111111111111, \"#46039f\"], [0.2222222222222222, \"#7201a8\"], [0.3333333333333333, \"#9c179e\"], [0.4444444444444444, \"#bd3786\"], [0.5555555555555556, \"#d8576b\"], [0.6666666666666666, \"#ed7953\"], [0.7777777777777778, \"#fb9f3a\"], [0.8888888888888888, \"#fdca26\"], [1.0, \"#f0f921\"]], \"type\": \"heatmap\"}], \"heatmapgl\": [{\"colorbar\": {\"outlinewidth\": 0, \"ticks\": \"\"}, \"colorscale\": [[0.0, \"#0d0887\"], [0.1111111111111111, \"#46039f\"], [0.2222222222222222, \"#7201a8\"], [0.3333333333333333, \"#9c179e\"], [0.4444444444444444, \"#bd3786\"], [0.5555555555555556, \"#d8576b\"], [0.6666666666666666, \"#ed7953\"], [0.7777777777777778, \"#fb9f3a\"], [0.8888888888888888, \"#fdca26\"], [1.0, \"#f0f921\"]], \"type\": \"heatmapgl\"}], \"histogram\": [{\"marker\": {\"colorbar\": {\"outlinewidth\": 0, \"ticks\": \"\"}}, \"type\": \"histogram\"}], \"histogram2d\": [{\"colorbar\": {\"outlinewidth\": 0, \"ticks\": \"\"}, \"colorscale\": [[0.0, \"#0d0887\"], [0.1111111111111111, \"#46039f\"], [0.2222222222222222, \"#7201a8\"], [0.3333333333333333, \"#9c179e\"], [0.4444444444444444, \"#bd3786\"], [0.5555555555555556, \"#d8576b\"], [0.6666666666666666, \"#ed7953\"], [0.7777777777777778, \"#fb9f3a\"], [0.8888888888888888, \"#fdca26\"], [1.0, \"#f0f921\"]], \"type\": \"histogram2d\"}], \"histogram2dcontour\": [{\"colorbar\": {\"outlinewidth\": 0, \"ticks\": \"\"}, \"colorscale\": [[0.0, \"#0d0887\"], [0.1111111111111111, \"#46039f\"], [0.2222222222222222, \"#7201a8\"], [0.3333333333333333, \"#9c179e\"], [0.4444444444444444, \"#bd3786\"], [0.5555555555555556, \"#d8576b\"], [0.6666666666666666, \"#ed7953\"], [0.7777777777777778, \"#fb9f3a\"], [0.8888888888888888, \"#fdca26\"], [1.0, \"#f0f921\"]], \"type\": \"histogram2dcontour\"}], \"mesh3d\": [{\"colorbar\": {\"outlinewidth\": 0, \"ticks\": \"\"}, \"type\": \"mesh3d\"}], \"parcoords\": [{\"line\": {\"colorbar\": {\"outlinewidth\": 0, \"ticks\": \"\"}}, \"type\": \"parcoords\"}], \"pie\": [{\"automargin\": true, \"type\": \"pie\"}], \"scatter\": [{\"marker\": {\"colorbar\": {\"outlinewidth\": 0, \"ticks\": \"\"}}, \"type\": \"scatter\"}], \"scatter3d\": [{\"line\": {\"colorbar\": {\"outlinewidth\": 0, \"ticks\": \"\"}}, \"marker\": {\"colorbar\": {\"outlinewidth\": 0, \"ticks\": \"\"}}, \"type\": \"scatter3d\"}], \"scattercarpet\": [{\"marker\": {\"colorbar\": {\"outlinewidth\": 0, \"ticks\": \"\"}}, \"type\": \"scattercarpet\"}], \"scattergeo\": [{\"marker\": {\"colorbar\": {\"outlinewidth\": 0, \"ticks\": \"\"}}, \"type\": \"scattergeo\"}], \"scattergl\": [{\"marker\": {\"colorbar\": {\"outlinewidth\": 0, \"ticks\": \"\"}}, \"type\": \"scattergl\"}], \"scattermapbox\": [{\"marker\": {\"colorbar\": {\"outlinewidth\": 0, \"ticks\": \"\"}}, \"type\": \"scattermapbox\"}], \"scatterpolar\": [{\"marker\": {\"colorbar\": {\"outlinewidth\": 0, \"ticks\": \"\"}}, \"type\": \"scatterpolar\"}], \"scatterpolargl\": [{\"marker\": {\"colorbar\": {\"outlinewidth\": 0, \"ticks\": \"\"}}, \"type\": \"scatterpolargl\"}], \"scatterternary\": [{\"marker\": {\"colorbar\": {\"outlinewidth\": 0, \"ticks\": \"\"}}, \"type\": \"scatterternary\"}], \"surface\": [{\"colorbar\": {\"outlinewidth\": 0, \"ticks\": \"\"}, \"colorscale\": [[0.0, \"#0d0887\"], [0.1111111111111111, \"#46039f\"], [0.2222222222222222, \"#7201a8\"], [0.3333333333333333, \"#9c179e\"], [0.4444444444444444, \"#bd3786\"], [0.5555555555555556, \"#d8576b\"], [0.6666666666666666, \"#ed7953\"], [0.7777777777777778, \"#fb9f3a\"], [0.8888888888888888, \"#fdca26\"], [1.0, \"#f0f921\"]], \"type\": \"surface\"}], \"table\": [{\"cells\": {\"fill\": {\"color\": \"#EBF0F8\"}, \"line\": {\"color\": \"white\"}}, \"header\": {\"fill\": {\"color\": \"#C8D4E3\"}, \"line\": {\"color\": \"white\"}}, \"type\": \"table\"}]}, \"layout\": {\"annotationdefaults\": {\"arrowcolor\": \"#2a3f5f\", \"arrowhead\": 0, \"arrowwidth\": 1}, \"coloraxis\": {\"colorbar\": {\"outlinewidth\": 0, \"ticks\": \"\"}}, \"colorscale\": {\"diverging\": [[0, \"#8e0152\"], [0.1, \"#c51b7d\"], [0.2, \"#de77ae\"], [0.3, \"#f1b6da\"], [0.4, \"#fde0ef\"], [0.5, \"#f7f7f7\"], [0.6, \"#e6f5d0\"], [0.7, \"#b8e186\"], [0.8, \"#7fbc41\"], [0.9, \"#4d9221\"], [1, \"#276419\"]], \"sequential\": [[0.0, \"#0d0887\"], [0.1111111111111111, \"#46039f\"], [0.2222222222222222, \"#7201a8\"], [0.3333333333333333, \"#9c179e\"], [0.4444444444444444, \"#bd3786\"], [0.5555555555555556, \"#d8576b\"], [0.6666666666666666, \"#ed7953\"], [0.7777777777777778, \"#fb9f3a\"], [0.8888888888888888, \"#fdca26\"], [1.0, \"#f0f921\"]], \"sequentialminus\": [[0.0, \"#0d0887\"], [0.1111111111111111, \"#46039f\"], [0.2222222222222222, \"#7201a8\"], [0.3333333333333333, \"#9c179e\"], [0.4444444444444444, \"#bd3786\"], [0.5555555555555556, \"#d8576b\"], [0.6666666666666666, \"#ed7953\"], [0.7777777777777778, \"#fb9f3a\"], [0.8888888888888888, \"#fdca26\"], [1.0, \"#f0f921\"]]}, \"colorway\": [\"#636efa\", \"#EF553B\", \"#00cc96\", \"#ab63fa\", \"#FFA15A\", \"#19d3f3\", \"#FF6692\", \"#B6E880\", \"#FF97FF\", \"#FECB52\"], \"font\": {\"color\": \"#2a3f5f\"}, \"geo\": {\"bgcolor\": \"white\", \"lakecolor\": \"white\", \"landcolor\": \"#E5ECF6\", \"showlakes\": true, \"showland\": true, \"subunitcolor\": \"white\"}, \"hoverlabel\": {\"align\": \"left\"}, \"hovermode\": \"closest\", \"mapbox\": {\"style\": \"light\"}, \"paper_bgcolor\": \"white\", \"plot_bgcolor\": \"#E5ECF6\", \"polar\": {\"angularaxis\": {\"gridcolor\": \"white\", \"linecolor\": \"white\", \"ticks\": \"\"}, \"bgcolor\": \"#E5ECF6\", \"radialaxis\": {\"gridcolor\": \"white\", \"linecolor\": \"white\", \"ticks\": \"\"}}, \"scene\": {\"xaxis\": {\"backgroundcolor\": \"#E5ECF6\", \"gridcolor\": \"white\", \"gridwidth\": 2, \"linecolor\": \"white\", \"showbackground\": true, \"ticks\": \"\", \"zerolinecolor\": \"white\"}, \"yaxis\": {\"backgroundcolor\": \"#E5ECF6\", \"gridcolor\": \"white\", \"gridwidth\": 2, \"linecolor\": \"white\", \"showbackground\": true, \"ticks\": \"\", \"zerolinecolor\": \"white\"}, \"zaxis\": {\"backgroundcolor\": \"#E5ECF6\", \"gridcolor\": \"white\", \"gridwidth\": 2, \"linecolor\": \"white\", \"showbackground\": true, \"ticks\": \"\", \"zerolinecolor\": \"white\"}}, \"shapedefaults\": {\"line\": {\"color\": \"#2a3f5f\"}}, \"ternary\": {\"aaxis\": {\"gridcolor\": \"white\", \"linecolor\": \"white\", \"ticks\": \"\"}, \"baxis\": {\"gridcolor\": \"white\", \"linecolor\": \"white\", \"ticks\": \"\"}, \"bgcolor\": \"#E5ECF6\", \"caxis\": {\"gridcolor\": \"white\", \"linecolor\": \"white\", \"ticks\": \"\"}}, \"title\": {\"x\": 0.05}, \"xaxis\": {\"automargin\": true, \"gridcolor\": \"white\", \"linecolor\": \"white\", \"ticks\": \"\", \"title\": {\"standoff\": 15}, \"zerolinecolor\": \"white\", \"zerolinewidth\": 2}, \"yaxis\": {\"automargin\": true, \"gridcolor\": \"white\", \"linecolor\": \"white\", \"ticks\": \"\", \"title\": {\"standoff\": 15}, \"zerolinecolor\": \"white\", \"zerolinewidth\": 2}}}, \"title\": {\"text\": \"Distribusi label\"}, \"width\": 480, \"xaxis\": {\"anchor\": \"y\", \"domain\": [0.0, 1.0], \"title\": {\"text\": \"sentiment\"}}, \"yaxis\": {\"anchor\": \"x\", \"domain\": [0.0, 1.0], \"title\": {\"text\": \"count\"}}},\n",
              "                        {\"responsive\": true}\n",
              "                    ).then(function(){\n",
              "                            \n",
              "var gd = document.getElementById('8de23425-ee1a-447a-a34f-b477abe10f9f');\n",
              "var x = new MutationObserver(function (mutations, observer) {{\n",
              "        var display = window.getComputedStyle(gd).display;\n",
              "        if (!display || display === 'none') {{\n",
              "            console.log([gd, 'removed!']);\n",
              "            Plotly.purge(gd);\n",
              "            observer.disconnect();\n",
              "        }}\n",
              "}});\n",
              "\n",
              "// Listen for the removal of the full notebook cells\n",
              "var notebookContainer = gd.closest('#notebook-container');\n",
              "if (notebookContainer) {{\n",
              "    x.observe(notebookContainer, {childList: true});\n",
              "}}\n",
              "\n",
              "// Listen for the clearing of the current output cell\n",
              "var outputEl = gd.closest('.output');\n",
              "if (outputEl) {{\n",
              "    x.observe(outputEl, {childList: true});\n",
              "}}\n",
              "\n",
              "                        })\n",
              "                };\n",
              "                \n",
              "            </script>\n",
              "        </div>\n",
              "</body>\n",
              "</html>"
            ]
          },
          "metadata": {}
        }
      ]
    },
    {
      "cell_type": "markdown",
      "source": [
        "# Preprocessing"
      ],
      "metadata": {
        "id": "JwujGStrOYj0"
      }
    },
    {
      "cell_type": "markdown",
      "source": [
        "## Drop Duplicate and Null Data"
      ],
      "metadata": {
        "id": "0rcF4bcXs3zj"
      }
    },
    {
      "cell_type": "code",
      "source": [
        "df = df.drop_duplicates()\n",
        "df = df.dropna()\n",
        "df.reset_index(drop=True, inplace=True)\n",
        "df"
      ],
      "metadata": {
        "id": "LONAcaYwcBDi",
        "colab": {
          "base_uri": "https://localhost:8080/",
          "height": 423
        },
        "outputId": "6685b769-238e-44b3-b62e-d48392976608"
      },
      "execution_count": null,
      "outputs": [
        {
          "output_type": "execute_result",
          "data": {
            "text/html": [
              "\n",
              "  <div id=\"df-7814d4c9-1f42-4629-adbb-429594115188\">\n",
              "    <div class=\"colab-df-container\">\n",
              "      <div>\n",
              "<style scoped>\n",
              "    .dataframe tbody tr th:only-of-type {\n",
              "        vertical-align: middle;\n",
              "    }\n",
              "\n",
              "    .dataframe tbody tr th {\n",
              "        vertical-align: top;\n",
              "    }\n",
              "\n",
              "    .dataframe thead th {\n",
              "        text-align: right;\n",
              "    }\n",
              "</style>\n",
              "<table border=\"1\" class=\"dataframe\">\n",
              "  <thead>\n",
              "    <tr style=\"text-align: right;\">\n",
              "      <th></th>\n",
              "      <th>rating</th>\n",
              "      <th>review_text</th>\n",
              "      <th>sentiment</th>\n",
              "    </tr>\n",
              "  </thead>\n",
              "  <tbody>\n",
              "    <tr>\n",
              "      <th>0</th>\n",
              "      <td>2.0</td>\n",
              "      <td>We went to Universal over Memorial Day weekend...</td>\n",
              "      <td>0</td>\n",
              "    </tr>\n",
              "    <tr>\n",
              "      <th>1</th>\n",
              "      <td>1.0</td>\n",
              "      <td>The food service is horrible. I’m not reviewin...</td>\n",
              "      <td>0</td>\n",
              "    </tr>\n",
              "    <tr>\n",
              "      <th>2</th>\n",
              "      <td>2.0</td>\n",
              "      <td>I booked this vacation mainly to ride Hagrid m...</td>\n",
              "      <td>0</td>\n",
              "    </tr>\n",
              "    <tr>\n",
              "      <th>3</th>\n",
              "      <td>4.0</td>\n",
              "      <td>When a person tries the test seat for the ride...</td>\n",
              "      <td>0</td>\n",
              "    </tr>\n",
              "    <tr>\n",
              "      <th>4</th>\n",
              "      <td>5.0</td>\n",
              "      <td>Ok, I can't stress enough to anyone and everyo...</td>\n",
              "      <td>1</td>\n",
              "    </tr>\n",
              "    <tr>\n",
              "      <th>...</th>\n",
              "      <td>...</td>\n",
              "      <td>...</td>\n",
              "      <td>...</td>\n",
              "    </tr>\n",
              "    <tr>\n",
              "      <th>50844</th>\n",
              "      <td>4.0</td>\n",
              "      <td>This is my first visit to a Universal Studio t...</td>\n",
              "      <td>0</td>\n",
              "    </tr>\n",
              "    <tr>\n",
              "      <th>50845</th>\n",
              "      <td>4.0</td>\n",
              "      <td>We finally visited Singapore's very first them...</td>\n",
              "      <td>0</td>\n",
              "    </tr>\n",
              "    <tr>\n",
              "      <th>50846</th>\n",
              "      <td>4.0</td>\n",
              "      <td>We visited during the first week of its 'soft ...</td>\n",
              "      <td>0</td>\n",
              "    </tr>\n",
              "    <tr>\n",
              "      <th>50847</th>\n",
              "      <td>4.0</td>\n",
              "      <td>We visited on the 3rd day of the 'soft' openin...</td>\n",
              "      <td>0</td>\n",
              "    </tr>\n",
              "    <tr>\n",
              "      <th>50848</th>\n",
              "      <td>5.0</td>\n",
              "      <td>My group managed to get the tickets for the 16...</td>\n",
              "      <td>1</td>\n",
              "    </tr>\n",
              "  </tbody>\n",
              "</table>\n",
              "<p>50849 rows × 3 columns</p>\n",
              "</div>\n",
              "      <button class=\"colab-df-convert\" onclick=\"convertToInteractive('df-7814d4c9-1f42-4629-adbb-429594115188')\"\n",
              "              title=\"Convert this dataframe to an interactive table.\"\n",
              "              style=\"display:none;\">\n",
              "        \n",
              "  <svg xmlns=\"http://www.w3.org/2000/svg\" height=\"24px\"viewBox=\"0 0 24 24\"\n",
              "       width=\"24px\">\n",
              "    <path d=\"M0 0h24v24H0V0z\" fill=\"none\"/>\n",
              "    <path d=\"M18.56 5.44l.94 2.06.94-2.06 2.06-.94-2.06-.94-.94-2.06-.94 2.06-2.06.94zm-11 1L8.5 8.5l.94-2.06 2.06-.94-2.06-.94L8.5 2.5l-.94 2.06-2.06.94zm10 10l.94 2.06.94-2.06 2.06-.94-2.06-.94-.94-2.06-.94 2.06-2.06.94z\"/><path d=\"M17.41 7.96l-1.37-1.37c-.4-.4-.92-.59-1.43-.59-.52 0-1.04.2-1.43.59L10.3 9.45l-7.72 7.72c-.78.78-.78 2.05 0 2.83L4 21.41c.39.39.9.59 1.41.59.51 0 1.02-.2 1.41-.59l7.78-7.78 2.81-2.81c.8-.78.8-2.07 0-2.86zM5.41 20L4 18.59l7.72-7.72 1.47 1.35L5.41 20z\"/>\n",
              "  </svg>\n",
              "      </button>\n",
              "      \n",
              "  <style>\n",
              "    .colab-df-container {\n",
              "      display:flex;\n",
              "      flex-wrap:wrap;\n",
              "      gap: 12px;\n",
              "    }\n",
              "\n",
              "    .colab-df-convert {\n",
              "      background-color: #E8F0FE;\n",
              "      border: none;\n",
              "      border-radius: 50%;\n",
              "      cursor: pointer;\n",
              "      display: none;\n",
              "      fill: #1967D2;\n",
              "      height: 32px;\n",
              "      padding: 0 0 0 0;\n",
              "      width: 32px;\n",
              "    }\n",
              "\n",
              "    .colab-df-convert:hover {\n",
              "      background-color: #E2EBFA;\n",
              "      box-shadow: 0px 1px 2px rgba(60, 64, 67, 0.3), 0px 1px 3px 1px rgba(60, 64, 67, 0.15);\n",
              "      fill: #174EA6;\n",
              "    }\n",
              "\n",
              "    [theme=dark] .colab-df-convert {\n",
              "      background-color: #3B4455;\n",
              "      fill: #D2E3FC;\n",
              "    }\n",
              "\n",
              "    [theme=dark] .colab-df-convert:hover {\n",
              "      background-color: #434B5C;\n",
              "      box-shadow: 0px 1px 3px 1px rgba(0, 0, 0, 0.15);\n",
              "      filter: drop-shadow(0px 1px 2px rgba(0, 0, 0, 0.3));\n",
              "      fill: #FFFFFF;\n",
              "    }\n",
              "  </style>\n",
              "\n",
              "      <script>\n",
              "        const buttonEl =\n",
              "          document.querySelector('#df-7814d4c9-1f42-4629-adbb-429594115188 button.colab-df-convert');\n",
              "        buttonEl.style.display =\n",
              "          google.colab.kernel.accessAllowed ? 'block' : 'none';\n",
              "\n",
              "        async function convertToInteractive(key) {\n",
              "          const element = document.querySelector('#df-7814d4c9-1f42-4629-adbb-429594115188');\n",
              "          const dataTable =\n",
              "            await google.colab.kernel.invokeFunction('convertToInteractive',\n",
              "                                                     [key], {});\n",
              "          if (!dataTable) return;\n",
              "\n",
              "          const docLinkHtml = 'Like what you see? Visit the ' +\n",
              "            '<a target=\"_blank\" href=https://colab.research.google.com/notebooks/data_table.ipynb>data table notebook</a>'\n",
              "            + ' to learn more about interactive tables.';\n",
              "          element.innerHTML = '';\n",
              "          dataTable['output_type'] = 'display_data';\n",
              "          await google.colab.output.renderOutput(dataTable, element);\n",
              "          const docLink = document.createElement('div');\n",
              "          docLink.innerHTML = docLinkHtml;\n",
              "          element.appendChild(docLink);\n",
              "        }\n",
              "      </script>\n",
              "    </div>\n",
              "  </div>\n",
              "  "
            ],
            "text/plain": [
              "       rating                                        review_text  sentiment\n",
              "0         2.0  We went to Universal over Memorial Day weekend...          0\n",
              "1         1.0  The food service is horrible. I’m not reviewin...          0\n",
              "2         2.0  I booked this vacation mainly to ride Hagrid m...          0\n",
              "3         4.0  When a person tries the test seat for the ride...          0\n",
              "4         5.0  Ok, I can't stress enough to anyone and everyo...          1\n",
              "...       ...                                                ...        ...\n",
              "50844     4.0  This is my first visit to a Universal Studio t...          0\n",
              "50845     4.0  We finally visited Singapore's very first them...          0\n",
              "50846     4.0  We visited during the first week of its 'soft ...          0\n",
              "50847     4.0  We visited on the 3rd day of the 'soft' openin...          0\n",
              "50848     5.0  My group managed to get the tickets for the 16...          1\n",
              "\n",
              "[50849 rows x 3 columns]"
            ]
          },
          "metadata": {},
          "execution_count": 114
        }
      ]
    },
    {
      "cell_type": "markdown",
      "source": [
        "## Case Folding"
      ],
      "metadata": {
        "id": "CtP0dqbr4qFq"
      }
    },
    {
      "cell_type": "code",
      "source": [
        "df['review_text'] = df['review_text'].str.lower()\n",
        "df"
      ],
      "metadata": {
        "colab": {
          "base_uri": "https://localhost:8080/",
          "height": 423
        },
        "id": "6CwWlTBH4rzL",
        "outputId": "0e65c5d8-44bd-428b-fbce-58231e790c58"
      },
      "execution_count": null,
      "outputs": [
        {
          "output_type": "execute_result",
          "data": {
            "text/html": [
              "\n",
              "  <div id=\"df-7c483efb-1a0a-4198-a2ce-61dec1d69c4a\">\n",
              "    <div class=\"colab-df-container\">\n",
              "      <div>\n",
              "<style scoped>\n",
              "    .dataframe tbody tr th:only-of-type {\n",
              "        vertical-align: middle;\n",
              "    }\n",
              "\n",
              "    .dataframe tbody tr th {\n",
              "        vertical-align: top;\n",
              "    }\n",
              "\n",
              "    .dataframe thead th {\n",
              "        text-align: right;\n",
              "    }\n",
              "</style>\n",
              "<table border=\"1\" class=\"dataframe\">\n",
              "  <thead>\n",
              "    <tr style=\"text-align: right;\">\n",
              "      <th></th>\n",
              "      <th>rating</th>\n",
              "      <th>review_text</th>\n",
              "      <th>sentiment</th>\n",
              "    </tr>\n",
              "  </thead>\n",
              "  <tbody>\n",
              "    <tr>\n",
              "      <th>0</th>\n",
              "      <td>2.0</td>\n",
              "      <td>we went to universal over memorial day weekend...</td>\n",
              "      <td>0</td>\n",
              "    </tr>\n",
              "    <tr>\n",
              "      <th>1</th>\n",
              "      <td>1.0</td>\n",
              "      <td>the food service is horrible. i’m not reviewin...</td>\n",
              "      <td>0</td>\n",
              "    </tr>\n",
              "    <tr>\n",
              "      <th>2</th>\n",
              "      <td>2.0</td>\n",
              "      <td>i booked this vacation mainly to ride hagrid m...</td>\n",
              "      <td>0</td>\n",
              "    </tr>\n",
              "    <tr>\n",
              "      <th>3</th>\n",
              "      <td>4.0</td>\n",
              "      <td>when a person tries the test seat for the ride...</td>\n",
              "      <td>0</td>\n",
              "    </tr>\n",
              "    <tr>\n",
              "      <th>4</th>\n",
              "      <td>5.0</td>\n",
              "      <td>ok, i can't stress enough to anyone and everyo...</td>\n",
              "      <td>1</td>\n",
              "    </tr>\n",
              "    <tr>\n",
              "      <th>...</th>\n",
              "      <td>...</td>\n",
              "      <td>...</td>\n",
              "      <td>...</td>\n",
              "    </tr>\n",
              "    <tr>\n",
              "      <th>50844</th>\n",
              "      <td>4.0</td>\n",
              "      <td>this is my first visit to a universal studio t...</td>\n",
              "      <td>0</td>\n",
              "    </tr>\n",
              "    <tr>\n",
              "      <th>50845</th>\n",
              "      <td>4.0</td>\n",
              "      <td>we finally visited singapore's very first them...</td>\n",
              "      <td>0</td>\n",
              "    </tr>\n",
              "    <tr>\n",
              "      <th>50846</th>\n",
              "      <td>4.0</td>\n",
              "      <td>we visited during the first week of its 'soft ...</td>\n",
              "      <td>0</td>\n",
              "    </tr>\n",
              "    <tr>\n",
              "      <th>50847</th>\n",
              "      <td>4.0</td>\n",
              "      <td>we visited on the 3rd day of the 'soft' openin...</td>\n",
              "      <td>0</td>\n",
              "    </tr>\n",
              "    <tr>\n",
              "      <th>50848</th>\n",
              "      <td>5.0</td>\n",
              "      <td>my group managed to get the tickets for the 16...</td>\n",
              "      <td>1</td>\n",
              "    </tr>\n",
              "  </tbody>\n",
              "</table>\n",
              "<p>50849 rows × 3 columns</p>\n",
              "</div>\n",
              "      <button class=\"colab-df-convert\" onclick=\"convertToInteractive('df-7c483efb-1a0a-4198-a2ce-61dec1d69c4a')\"\n",
              "              title=\"Convert this dataframe to an interactive table.\"\n",
              "              style=\"display:none;\">\n",
              "        \n",
              "  <svg xmlns=\"http://www.w3.org/2000/svg\" height=\"24px\"viewBox=\"0 0 24 24\"\n",
              "       width=\"24px\">\n",
              "    <path d=\"M0 0h24v24H0V0z\" fill=\"none\"/>\n",
              "    <path d=\"M18.56 5.44l.94 2.06.94-2.06 2.06-.94-2.06-.94-.94-2.06-.94 2.06-2.06.94zm-11 1L8.5 8.5l.94-2.06 2.06-.94-2.06-.94L8.5 2.5l-.94 2.06-2.06.94zm10 10l.94 2.06.94-2.06 2.06-.94-2.06-.94-.94-2.06-.94 2.06-2.06.94z\"/><path d=\"M17.41 7.96l-1.37-1.37c-.4-.4-.92-.59-1.43-.59-.52 0-1.04.2-1.43.59L10.3 9.45l-7.72 7.72c-.78.78-.78 2.05 0 2.83L4 21.41c.39.39.9.59 1.41.59.51 0 1.02-.2 1.41-.59l7.78-7.78 2.81-2.81c.8-.78.8-2.07 0-2.86zM5.41 20L4 18.59l7.72-7.72 1.47 1.35L5.41 20z\"/>\n",
              "  </svg>\n",
              "      </button>\n",
              "      \n",
              "  <style>\n",
              "    .colab-df-container {\n",
              "      display:flex;\n",
              "      flex-wrap:wrap;\n",
              "      gap: 12px;\n",
              "    }\n",
              "\n",
              "    .colab-df-convert {\n",
              "      background-color: #E8F0FE;\n",
              "      border: none;\n",
              "      border-radius: 50%;\n",
              "      cursor: pointer;\n",
              "      display: none;\n",
              "      fill: #1967D2;\n",
              "      height: 32px;\n",
              "      padding: 0 0 0 0;\n",
              "      width: 32px;\n",
              "    }\n",
              "\n",
              "    .colab-df-convert:hover {\n",
              "      background-color: #E2EBFA;\n",
              "      box-shadow: 0px 1px 2px rgba(60, 64, 67, 0.3), 0px 1px 3px 1px rgba(60, 64, 67, 0.15);\n",
              "      fill: #174EA6;\n",
              "    }\n",
              "\n",
              "    [theme=dark] .colab-df-convert {\n",
              "      background-color: #3B4455;\n",
              "      fill: #D2E3FC;\n",
              "    }\n",
              "\n",
              "    [theme=dark] .colab-df-convert:hover {\n",
              "      background-color: #434B5C;\n",
              "      box-shadow: 0px 1px 3px 1px rgba(0, 0, 0, 0.15);\n",
              "      filter: drop-shadow(0px 1px 2px rgba(0, 0, 0, 0.3));\n",
              "      fill: #FFFFFF;\n",
              "    }\n",
              "  </style>\n",
              "\n",
              "      <script>\n",
              "        const buttonEl =\n",
              "          document.querySelector('#df-7c483efb-1a0a-4198-a2ce-61dec1d69c4a button.colab-df-convert');\n",
              "        buttonEl.style.display =\n",
              "          google.colab.kernel.accessAllowed ? 'block' : 'none';\n",
              "\n",
              "        async function convertToInteractive(key) {\n",
              "          const element = document.querySelector('#df-7c483efb-1a0a-4198-a2ce-61dec1d69c4a');\n",
              "          const dataTable =\n",
              "            await google.colab.kernel.invokeFunction('convertToInteractive',\n",
              "                                                     [key], {});\n",
              "          if (!dataTable) return;\n",
              "\n",
              "          const docLinkHtml = 'Like what you see? Visit the ' +\n",
              "            '<a target=\"_blank\" href=https://colab.research.google.com/notebooks/data_table.ipynb>data table notebook</a>'\n",
              "            + ' to learn more about interactive tables.';\n",
              "          element.innerHTML = '';\n",
              "          dataTable['output_type'] = 'display_data';\n",
              "          await google.colab.output.renderOutput(dataTable, element);\n",
              "          const docLink = document.createElement('div');\n",
              "          docLink.innerHTML = docLinkHtml;\n",
              "          element.appendChild(docLink);\n",
              "        }\n",
              "      </script>\n",
              "    </div>\n",
              "  </div>\n",
              "  "
            ],
            "text/plain": [
              "       rating                                        review_text  sentiment\n",
              "0         2.0  we went to universal over memorial day weekend...          0\n",
              "1         1.0  the food service is horrible. i’m not reviewin...          0\n",
              "2         2.0  i booked this vacation mainly to ride hagrid m...          0\n",
              "3         4.0  when a person tries the test seat for the ride...          0\n",
              "4         5.0  ok, i can't stress enough to anyone and everyo...          1\n",
              "...       ...                                                ...        ...\n",
              "50844     4.0  this is my first visit to a universal studio t...          0\n",
              "50845     4.0  we finally visited singapore's very first them...          0\n",
              "50846     4.0  we visited during the first week of its 'soft ...          0\n",
              "50847     4.0  we visited on the 3rd day of the 'soft' openin...          0\n",
              "50848     5.0  my group managed to get the tickets for the 16...          1\n",
              "\n",
              "[50849 rows x 3 columns]"
            ]
          },
          "metadata": {},
          "execution_count": 115
        }
      ]
    },
    {
      "cell_type": "markdown",
      "source": [
        "## Tokenizing and Removing Unwanted Char"
      ],
      "metadata": {
        "id": "zgkOFYWG4fnI"
      }
    },
    {
      "cell_type": "code",
      "source": [
        "def remove_unwanted_char(text):\n",
        "    html_tag = re.compile(r'<.*?>')\n",
        "    http_link = re.compile(r'https://\\S+')\n",
        "    www_link = re.compile(r'www\\.\\S+')\n",
        "    punct = re.compile(r\"[^\\w\\s]\")\n",
        "    number = re.compile(r\"\\d\")\n",
        "    space = re.compile(r\"\\s\\s+\")\n",
        "\n",
        "    text = re.sub(html_tag, r\" \", text)\n",
        "    text = re.sub(http_link, r\" \", text)\n",
        "    text = re.sub(www_link, r\" \", text)\n",
        "    text = re.sub(punct, r\" \", text)\n",
        "    text = re.sub(number, r\" \", text)\n",
        "    text = re.sub(space, r\" \", text)\n",
        "    return text\n",
        "\n",
        "df['review_text'] = df['review_text'].apply(remove_unwanted_char)\n",
        "\n",
        "def remove_number(text):\n",
        "    return  re.sub(r\"\\d+\", \"\", text)\n",
        "\n",
        "df['review_text'] = df['review_text'].apply(remove_number)\n",
        "\n",
        "def remove_whitespace_LT(text):\n",
        "    return text.strip()\n",
        "\n",
        "df['review_text'] = df['review_text'].apply(remove_whitespace_LT)\n",
        "\n",
        "def remove_whitespace_multiple(text):\n",
        "    return re.sub('\\s+',' ',text)\n",
        "\n",
        "df['tokenized'] = df['review_text'].apply(lambda x: word_tokenize(x))\n",
        "\n",
        "df"
      ],
      "metadata": {
        "colab": {
          "base_uri": "https://localhost:8080/",
          "height": 641
        },
        "id": "9HewQGCjdDtk",
        "outputId": "e59bbebc-7ac7-4109-fc3d-7fcc2a3c157f"
      },
      "execution_count": null,
      "outputs": [
        {
          "output_type": "execute_result",
          "data": {
            "text/html": [
              "\n",
              "  <div id=\"df-794e40cf-bdc3-4413-9965-cedf116adb4b\">\n",
              "    <div class=\"colab-df-container\">\n",
              "      <div>\n",
              "<style scoped>\n",
              "    .dataframe tbody tr th:only-of-type {\n",
              "        vertical-align: middle;\n",
              "    }\n",
              "\n",
              "    .dataframe tbody tr th {\n",
              "        vertical-align: top;\n",
              "    }\n",
              "\n",
              "    .dataframe thead th {\n",
              "        text-align: right;\n",
              "    }\n",
              "</style>\n",
              "<table border=\"1\" class=\"dataframe\">\n",
              "  <thead>\n",
              "    <tr style=\"text-align: right;\">\n",
              "      <th></th>\n",
              "      <th>rating</th>\n",
              "      <th>review_text</th>\n",
              "      <th>sentiment</th>\n",
              "      <th>tokenized</th>\n",
              "    </tr>\n",
              "  </thead>\n",
              "  <tbody>\n",
              "    <tr>\n",
              "      <th>0</th>\n",
              "      <td>2.0</td>\n",
              "      <td>we went to universal over memorial day weekend...</td>\n",
              "      <td>0</td>\n",
              "      <td>[we, went, to, universal, over, memorial, day,...</td>\n",
              "    </tr>\n",
              "    <tr>\n",
              "      <th>1</th>\n",
              "      <td>1.0</td>\n",
              "      <td>the food service is horrible i m not reviewing...</td>\n",
              "      <td>0</td>\n",
              "      <td>[the, food, service, is, horrible, i, m, not, ...</td>\n",
              "    </tr>\n",
              "    <tr>\n",
              "      <th>2</th>\n",
              "      <td>2.0</td>\n",
              "      <td>i booked this vacation mainly to ride hagrid m...</td>\n",
              "      <td>0</td>\n",
              "      <td>[i, booked, this, vacation, mainly, to, ride, ...</td>\n",
              "    </tr>\n",
              "    <tr>\n",
              "      <th>3</th>\n",
              "      <td>4.0</td>\n",
              "      <td>when a person tries the test seat for the ride...</td>\n",
              "      <td>0</td>\n",
              "      <td>[when, a, person, tries, the, test, seat, for,...</td>\n",
              "    </tr>\n",
              "    <tr>\n",
              "      <th>4</th>\n",
              "      <td>5.0</td>\n",
              "      <td>ok i can t stress enough to anyone and everyon...</td>\n",
              "      <td>1</td>\n",
              "      <td>[ok, i, can, t, stress, enough, to, anyone, an...</td>\n",
              "    </tr>\n",
              "    <tr>\n",
              "      <th>...</th>\n",
              "      <td>...</td>\n",
              "      <td>...</td>\n",
              "      <td>...</td>\n",
              "      <td>...</td>\n",
              "    </tr>\n",
              "    <tr>\n",
              "      <th>50844</th>\n",
              "      <td>4.0</td>\n",
              "      <td>this is my first visit to a universal studio t...</td>\n",
              "      <td>0</td>\n",
              "      <td>[this, is, my, first, visit, to, a, universal,...</td>\n",
              "    </tr>\n",
              "    <tr>\n",
              "      <th>50845</th>\n",
              "      <td>4.0</td>\n",
              "      <td>we finally visited singapore s very first them...</td>\n",
              "      <td>0</td>\n",
              "      <td>[we, finally, visited, singapore, s, very, fir...</td>\n",
              "    </tr>\n",
              "    <tr>\n",
              "      <th>50846</th>\n",
              "      <td>4.0</td>\n",
              "      <td>we visited during the first week of its soft o...</td>\n",
              "      <td>0</td>\n",
              "      <td>[we, visited, during, the, first, week, of, it...</td>\n",
              "    </tr>\n",
              "    <tr>\n",
              "      <th>50847</th>\n",
              "      <td>4.0</td>\n",
              "      <td>we visited on the rd day of the soft opening t...</td>\n",
              "      <td>0</td>\n",
              "      <td>[we, visited, on, the, rd, day, of, the, soft,...</td>\n",
              "    </tr>\n",
              "    <tr>\n",
              "      <th>50848</th>\n",
              "      <td>5.0</td>\n",
              "      <td>my group managed to get the tickets for the fe...</td>\n",
              "      <td>1</td>\n",
              "      <td>[my, group, managed, to, get, the, tickets, fo...</td>\n",
              "    </tr>\n",
              "  </tbody>\n",
              "</table>\n",
              "<p>50849 rows × 4 columns</p>\n",
              "</div>\n",
              "      <button class=\"colab-df-convert\" onclick=\"convertToInteractive('df-794e40cf-bdc3-4413-9965-cedf116adb4b')\"\n",
              "              title=\"Convert this dataframe to an interactive table.\"\n",
              "              style=\"display:none;\">\n",
              "        \n",
              "  <svg xmlns=\"http://www.w3.org/2000/svg\" height=\"24px\"viewBox=\"0 0 24 24\"\n",
              "       width=\"24px\">\n",
              "    <path d=\"M0 0h24v24H0V0z\" fill=\"none\"/>\n",
              "    <path d=\"M18.56 5.44l.94 2.06.94-2.06 2.06-.94-2.06-.94-.94-2.06-.94 2.06-2.06.94zm-11 1L8.5 8.5l.94-2.06 2.06-.94-2.06-.94L8.5 2.5l-.94 2.06-2.06.94zm10 10l.94 2.06.94-2.06 2.06-.94-2.06-.94-.94-2.06-.94 2.06-2.06.94z\"/><path d=\"M17.41 7.96l-1.37-1.37c-.4-.4-.92-.59-1.43-.59-.52 0-1.04.2-1.43.59L10.3 9.45l-7.72 7.72c-.78.78-.78 2.05 0 2.83L4 21.41c.39.39.9.59 1.41.59.51 0 1.02-.2 1.41-.59l7.78-7.78 2.81-2.81c.8-.78.8-2.07 0-2.86zM5.41 20L4 18.59l7.72-7.72 1.47 1.35L5.41 20z\"/>\n",
              "  </svg>\n",
              "      </button>\n",
              "      \n",
              "  <style>\n",
              "    .colab-df-container {\n",
              "      display:flex;\n",
              "      flex-wrap:wrap;\n",
              "      gap: 12px;\n",
              "    }\n",
              "\n",
              "    .colab-df-convert {\n",
              "      background-color: #E8F0FE;\n",
              "      border: none;\n",
              "      border-radius: 50%;\n",
              "      cursor: pointer;\n",
              "      display: none;\n",
              "      fill: #1967D2;\n",
              "      height: 32px;\n",
              "      padding: 0 0 0 0;\n",
              "      width: 32px;\n",
              "    }\n",
              "\n",
              "    .colab-df-convert:hover {\n",
              "      background-color: #E2EBFA;\n",
              "      box-shadow: 0px 1px 2px rgba(60, 64, 67, 0.3), 0px 1px 3px 1px rgba(60, 64, 67, 0.15);\n",
              "      fill: #174EA6;\n",
              "    }\n",
              "\n",
              "    [theme=dark] .colab-df-convert {\n",
              "      background-color: #3B4455;\n",
              "      fill: #D2E3FC;\n",
              "    }\n",
              "\n",
              "    [theme=dark] .colab-df-convert:hover {\n",
              "      background-color: #434B5C;\n",
              "      box-shadow: 0px 1px 3px 1px rgba(0, 0, 0, 0.15);\n",
              "      filter: drop-shadow(0px 1px 2px rgba(0, 0, 0, 0.3));\n",
              "      fill: #FFFFFF;\n",
              "    }\n",
              "  </style>\n",
              "\n",
              "      <script>\n",
              "        const buttonEl =\n",
              "          document.querySelector('#df-794e40cf-bdc3-4413-9965-cedf116adb4b button.colab-df-convert');\n",
              "        buttonEl.style.display =\n",
              "          google.colab.kernel.accessAllowed ? 'block' : 'none';\n",
              "\n",
              "        async function convertToInteractive(key) {\n",
              "          const element = document.querySelector('#df-794e40cf-bdc3-4413-9965-cedf116adb4b');\n",
              "          const dataTable =\n",
              "            await google.colab.kernel.invokeFunction('convertToInteractive',\n",
              "                                                     [key], {});\n",
              "          if (!dataTable) return;\n",
              "\n",
              "          const docLinkHtml = 'Like what you see? Visit the ' +\n",
              "            '<a target=\"_blank\" href=https://colab.research.google.com/notebooks/data_table.ipynb>data table notebook</a>'\n",
              "            + ' to learn more about interactive tables.';\n",
              "          element.innerHTML = '';\n",
              "          dataTable['output_type'] = 'display_data';\n",
              "          await google.colab.output.renderOutput(dataTable, element);\n",
              "          const docLink = document.createElement('div');\n",
              "          docLink.innerHTML = docLinkHtml;\n",
              "          element.appendChild(docLink);\n",
              "        }\n",
              "      </script>\n",
              "    </div>\n",
              "  </div>\n",
              "  "
            ],
            "text/plain": [
              "       rating  ...                                          tokenized\n",
              "0         2.0  ...  [we, went, to, universal, over, memorial, day,...\n",
              "1         1.0  ...  [the, food, service, is, horrible, i, m, not, ...\n",
              "2         2.0  ...  [i, booked, this, vacation, mainly, to, ride, ...\n",
              "3         4.0  ...  [when, a, person, tries, the, test, seat, for,...\n",
              "4         5.0  ...  [ok, i, can, t, stress, enough, to, anyone, an...\n",
              "...       ...  ...                                                ...\n",
              "50844     4.0  ...  [this, is, my, first, visit, to, a, universal,...\n",
              "50845     4.0  ...  [we, finally, visited, singapore, s, very, fir...\n",
              "50846     4.0  ...  [we, visited, during, the, first, week, of, it...\n",
              "50847     4.0  ...  [we, visited, on, the, rd, day, of, the, soft,...\n",
              "50848     5.0  ...  [my, group, managed, to, get, the, tickets, fo...\n",
              "\n",
              "[50849 rows x 4 columns]"
            ]
          },
          "metadata": {},
          "execution_count": 116
        }
      ]
    },
    {
      "cell_type": "markdown",
      "source": [
        "## Stopword Removal"
      ],
      "metadata": {
        "id": "7uySMW1j4i5s"
      }
    },
    {
      "cell_type": "code",
      "source": [
        "stop_words = set(stopwords.words('english'))"
      ],
      "metadata": {
        "id": "1CfttJ2BjtJH"
      },
      "execution_count": null,
      "outputs": []
    },
    {
      "cell_type": "code",
      "source": [
        "df['no_stopwords'] = df['tokenized'].apply(lambda x: [word for word in x if word not in stop_words])\n",
        "df"
      ],
      "metadata": {
        "colab": {
          "base_uri": "https://localhost:8080/",
          "height": 676
        },
        "id": "wPov-t5AilYu",
        "outputId": "293b8349-61a7-4774-d5a4-a189c81e4735"
      },
      "execution_count": null,
      "outputs": [
        {
          "output_type": "execute_result",
          "data": {
            "text/html": [
              "\n",
              "  <div id=\"df-919a0058-9729-4d5b-bcd1-05d547c215c9\">\n",
              "    <div class=\"colab-df-container\">\n",
              "      <div>\n",
              "<style scoped>\n",
              "    .dataframe tbody tr th:only-of-type {\n",
              "        vertical-align: middle;\n",
              "    }\n",
              "\n",
              "    .dataframe tbody tr th {\n",
              "        vertical-align: top;\n",
              "    }\n",
              "\n",
              "    .dataframe thead th {\n",
              "        text-align: right;\n",
              "    }\n",
              "</style>\n",
              "<table border=\"1\" class=\"dataframe\">\n",
              "  <thead>\n",
              "    <tr style=\"text-align: right;\">\n",
              "      <th></th>\n",
              "      <th>rating</th>\n",
              "      <th>review_text</th>\n",
              "      <th>sentiment</th>\n",
              "      <th>tokenized</th>\n",
              "      <th>no_stopwords</th>\n",
              "    </tr>\n",
              "  </thead>\n",
              "  <tbody>\n",
              "    <tr>\n",
              "      <th>0</th>\n",
              "      <td>2.0</td>\n",
              "      <td>we went to universal over memorial day weekend...</td>\n",
              "      <td>0</td>\n",
              "      <td>[we, went, to, universal, over, memorial, day,...</td>\n",
              "      <td>[went, universal, memorial, day, weekend, tota...</td>\n",
              "    </tr>\n",
              "    <tr>\n",
              "      <th>1</th>\n",
              "      <td>1.0</td>\n",
              "      <td>the food service is horrible i m not reviewing...</td>\n",
              "      <td>0</td>\n",
              "      <td>[the, food, service, is, horrible, i, m, not, ...</td>\n",
              "      <td>[food, service, horrible, reviewing, food, wai...</td>\n",
              "    </tr>\n",
              "    <tr>\n",
              "      <th>2</th>\n",
              "      <td>2.0</td>\n",
              "      <td>i booked this vacation mainly to ride hagrid m...</td>\n",
              "      <td>0</td>\n",
              "      <td>[i, booked, this, vacation, mainly, to, ride, ...</td>\n",
              "      <td>[booked, vacation, mainly, ride, hagrid, motor...</td>\n",
              "    </tr>\n",
              "    <tr>\n",
              "      <th>3</th>\n",
              "      <td>4.0</td>\n",
              "      <td>when a person tries the test seat for the ride...</td>\n",
              "      <td>0</td>\n",
              "      <td>[when, a, person, tries, the, test, seat, for,...</td>\n",
              "      <td>[person, tries, test, seat, rides, gets, green...</td>\n",
              "    </tr>\n",
              "    <tr>\n",
              "      <th>4</th>\n",
              "      <td>5.0</td>\n",
              "      <td>ok i can t stress enough to anyone and everyon...</td>\n",
              "      <td>1</td>\n",
              "      <td>[ok, i, can, t, stress, enough, to, anyone, an...</td>\n",
              "      <td>[ok, stress, enough, anyone, everyone, go, uni...</td>\n",
              "    </tr>\n",
              "    <tr>\n",
              "      <th>...</th>\n",
              "      <td>...</td>\n",
              "      <td>...</td>\n",
              "      <td>...</td>\n",
              "      <td>...</td>\n",
              "      <td>...</td>\n",
              "    </tr>\n",
              "    <tr>\n",
              "      <th>50844</th>\n",
              "      <td>4.0</td>\n",
              "      <td>this is my first visit to a universal studio t...</td>\n",
              "      <td>0</td>\n",
              "      <td>[this, is, my, first, visit, to, a, universal,...</td>\n",
              "      <td>[first, visit, universal, studio, theme, park,...</td>\n",
              "    </tr>\n",
              "    <tr>\n",
              "      <th>50845</th>\n",
              "      <td>4.0</td>\n",
              "      <td>we finally visited singapore s very first them...</td>\n",
              "      <td>0</td>\n",
              "      <td>[we, finally, visited, singapore, s, very, fir...</td>\n",
              "      <td>[finally, visited, singapore, first, theme, pa...</td>\n",
              "    </tr>\n",
              "    <tr>\n",
              "      <th>50846</th>\n",
              "      <td>4.0</td>\n",
              "      <td>we visited during the first week of its soft o...</td>\n",
              "      <td>0</td>\n",
              "      <td>[we, visited, during, the, first, week, of, it...</td>\n",
              "      <td>[visited, first, week, soft, opening, unfortun...</td>\n",
              "    </tr>\n",
              "    <tr>\n",
              "      <th>50847</th>\n",
              "      <td>4.0</td>\n",
              "      <td>we visited on the rd day of the soft opening t...</td>\n",
              "      <td>0</td>\n",
              "      <td>[we, visited, on, the, rd, day, of, the, soft,...</td>\n",
              "      <td>[visited, rd, day, soft, opening, ticket, sale...</td>\n",
              "    </tr>\n",
              "    <tr>\n",
              "      <th>50848</th>\n",
              "      <td>5.0</td>\n",
              "      <td>my group managed to get the tickets for the fe...</td>\n",
              "      <td>1</td>\n",
              "      <td>[my, group, managed, to, get, the, tickets, fo...</td>\n",
              "      <td>[group, managed, get, tickets, february, sneak...</td>\n",
              "    </tr>\n",
              "  </tbody>\n",
              "</table>\n",
              "<p>50849 rows × 5 columns</p>\n",
              "</div>\n",
              "      <button class=\"colab-df-convert\" onclick=\"convertToInteractive('df-919a0058-9729-4d5b-bcd1-05d547c215c9')\"\n",
              "              title=\"Convert this dataframe to an interactive table.\"\n",
              "              style=\"display:none;\">\n",
              "        \n",
              "  <svg xmlns=\"http://www.w3.org/2000/svg\" height=\"24px\"viewBox=\"0 0 24 24\"\n",
              "       width=\"24px\">\n",
              "    <path d=\"M0 0h24v24H0V0z\" fill=\"none\"/>\n",
              "    <path d=\"M18.56 5.44l.94 2.06.94-2.06 2.06-.94-2.06-.94-.94-2.06-.94 2.06-2.06.94zm-11 1L8.5 8.5l.94-2.06 2.06-.94-2.06-.94L8.5 2.5l-.94 2.06-2.06.94zm10 10l.94 2.06.94-2.06 2.06-.94-2.06-.94-.94-2.06-.94 2.06-2.06.94z\"/><path d=\"M17.41 7.96l-1.37-1.37c-.4-.4-.92-.59-1.43-.59-.52 0-1.04.2-1.43.59L10.3 9.45l-7.72 7.72c-.78.78-.78 2.05 0 2.83L4 21.41c.39.39.9.59 1.41.59.51 0 1.02-.2 1.41-.59l7.78-7.78 2.81-2.81c.8-.78.8-2.07 0-2.86zM5.41 20L4 18.59l7.72-7.72 1.47 1.35L5.41 20z\"/>\n",
              "  </svg>\n",
              "      </button>\n",
              "      \n",
              "  <style>\n",
              "    .colab-df-container {\n",
              "      display:flex;\n",
              "      flex-wrap:wrap;\n",
              "      gap: 12px;\n",
              "    }\n",
              "\n",
              "    .colab-df-convert {\n",
              "      background-color: #E8F0FE;\n",
              "      border: none;\n",
              "      border-radius: 50%;\n",
              "      cursor: pointer;\n",
              "      display: none;\n",
              "      fill: #1967D2;\n",
              "      height: 32px;\n",
              "      padding: 0 0 0 0;\n",
              "      width: 32px;\n",
              "    }\n",
              "\n",
              "    .colab-df-convert:hover {\n",
              "      background-color: #E2EBFA;\n",
              "      box-shadow: 0px 1px 2px rgba(60, 64, 67, 0.3), 0px 1px 3px 1px rgba(60, 64, 67, 0.15);\n",
              "      fill: #174EA6;\n",
              "    }\n",
              "\n",
              "    [theme=dark] .colab-df-convert {\n",
              "      background-color: #3B4455;\n",
              "      fill: #D2E3FC;\n",
              "    }\n",
              "\n",
              "    [theme=dark] .colab-df-convert:hover {\n",
              "      background-color: #434B5C;\n",
              "      box-shadow: 0px 1px 3px 1px rgba(0, 0, 0, 0.15);\n",
              "      filter: drop-shadow(0px 1px 2px rgba(0, 0, 0, 0.3));\n",
              "      fill: #FFFFFF;\n",
              "    }\n",
              "  </style>\n",
              "\n",
              "      <script>\n",
              "        const buttonEl =\n",
              "          document.querySelector('#df-919a0058-9729-4d5b-bcd1-05d547c215c9 button.colab-df-convert');\n",
              "        buttonEl.style.display =\n",
              "          google.colab.kernel.accessAllowed ? 'block' : 'none';\n",
              "\n",
              "        async function convertToInteractive(key) {\n",
              "          const element = document.querySelector('#df-919a0058-9729-4d5b-bcd1-05d547c215c9');\n",
              "          const dataTable =\n",
              "            await google.colab.kernel.invokeFunction('convertToInteractive',\n",
              "                                                     [key], {});\n",
              "          if (!dataTable) return;\n",
              "\n",
              "          const docLinkHtml = 'Like what you see? Visit the ' +\n",
              "            '<a target=\"_blank\" href=https://colab.research.google.com/notebooks/data_table.ipynb>data table notebook</a>'\n",
              "            + ' to learn more about interactive tables.';\n",
              "          element.innerHTML = '';\n",
              "          dataTable['output_type'] = 'display_data';\n",
              "          await google.colab.output.renderOutput(dataTable, element);\n",
              "          const docLink = document.createElement('div');\n",
              "          docLink.innerHTML = docLinkHtml;\n",
              "          element.appendChild(docLink);\n",
              "        }\n",
              "      </script>\n",
              "    </div>\n",
              "  </div>\n",
              "  "
            ],
            "text/plain": [
              "       rating  ...                                       no_stopwords\n",
              "0         2.0  ...  [went, universal, memorial, day, weekend, tota...\n",
              "1         1.0  ...  [food, service, horrible, reviewing, food, wai...\n",
              "2         2.0  ...  [booked, vacation, mainly, ride, hagrid, motor...\n",
              "3         4.0  ...  [person, tries, test, seat, rides, gets, green...\n",
              "4         5.0  ...  [ok, stress, enough, anyone, everyone, go, uni...\n",
              "...       ...  ...                                                ...\n",
              "50844     4.0  ...  [first, visit, universal, studio, theme, park,...\n",
              "50845     4.0  ...  [finally, visited, singapore, first, theme, pa...\n",
              "50846     4.0  ...  [visited, first, week, soft, opening, unfortun...\n",
              "50847     4.0  ...  [visited, rd, day, soft, opening, ticket, sale...\n",
              "50848     5.0  ...  [group, managed, get, tickets, february, sneak...\n",
              "\n",
              "[50849 rows x 5 columns]"
            ]
          },
          "metadata": {},
          "execution_count": 118
        }
      ]
    },
    {
      "cell_type": "markdown",
      "source": [
        "## Final Data"
      ],
      "metadata": {
        "id": "2UvX56Tv5kJ6"
      }
    },
    {
      "cell_type": "code",
      "source": [
        "df['clean'] = df['no_stopwords'].apply(lambda x: \" \".join(x))\n",
        "df"
      ],
      "metadata": {
        "id": "Tm3BaqNfoGqs",
        "colab": {
          "base_uri": "https://localhost:8080/",
          "height": 884
        },
        "outputId": "b1345ccc-0232-403b-ba73-a84384781b37"
      },
      "execution_count": null,
      "outputs": [
        {
          "output_type": "execute_result",
          "data": {
            "text/html": [
              "\n",
              "  <div id=\"df-f12f526e-1aab-46af-9ac6-1ac762622e85\">\n",
              "    <div class=\"colab-df-container\">\n",
              "      <div>\n",
              "<style scoped>\n",
              "    .dataframe tbody tr th:only-of-type {\n",
              "        vertical-align: middle;\n",
              "    }\n",
              "\n",
              "    .dataframe tbody tr th {\n",
              "        vertical-align: top;\n",
              "    }\n",
              "\n",
              "    .dataframe thead th {\n",
              "        text-align: right;\n",
              "    }\n",
              "</style>\n",
              "<table border=\"1\" class=\"dataframe\">\n",
              "  <thead>\n",
              "    <tr style=\"text-align: right;\">\n",
              "      <th></th>\n",
              "      <th>rating</th>\n",
              "      <th>review_text</th>\n",
              "      <th>sentiment</th>\n",
              "      <th>tokenized</th>\n",
              "      <th>no_stopwords</th>\n",
              "      <th>clean</th>\n",
              "    </tr>\n",
              "  </thead>\n",
              "  <tbody>\n",
              "    <tr>\n",
              "      <th>0</th>\n",
              "      <td>2.0</td>\n",
              "      <td>we went to universal over memorial day weekend...</td>\n",
              "      <td>0</td>\n",
              "      <td>[we, went, to, universal, over, memorial, day,...</td>\n",
              "      <td>[went, universal, memorial, day, weekend, tota...</td>\n",
              "      <td>went universal memorial day weekend total trai...</td>\n",
              "    </tr>\n",
              "    <tr>\n",
              "      <th>1</th>\n",
              "      <td>1.0</td>\n",
              "      <td>the food service is horrible i m not reviewing...</td>\n",
              "      <td>0</td>\n",
              "      <td>[the, food, service, is, horrible, i, m, not, ...</td>\n",
              "      <td>[food, service, horrible, reviewing, food, wai...</td>\n",
              "      <td>food service horrible reviewing food wait time...</td>\n",
              "    </tr>\n",
              "    <tr>\n",
              "      <th>2</th>\n",
              "      <td>2.0</td>\n",
              "      <td>i booked this vacation mainly to ride hagrid m...</td>\n",
              "      <td>0</td>\n",
              "      <td>[i, booked, this, vacation, mainly, to, ride, ...</td>\n",
              "      <td>[booked, vacation, mainly, ride, hagrid, motor...</td>\n",
              "      <td>booked vacation mainly ride hagrid motorcycle ...</td>\n",
              "    </tr>\n",
              "    <tr>\n",
              "      <th>3</th>\n",
              "      <td>4.0</td>\n",
              "      <td>when a person tries the test seat for the ride...</td>\n",
              "      <td>0</td>\n",
              "      <td>[when, a, person, tries, the, test, seat, for,...</td>\n",
              "      <td>[person, tries, test, seat, rides, gets, green...</td>\n",
              "      <td>person tries test seat rides gets green light ...</td>\n",
              "    </tr>\n",
              "    <tr>\n",
              "      <th>4</th>\n",
              "      <td>5.0</td>\n",
              "      <td>ok i can t stress enough to anyone and everyon...</td>\n",
              "      <td>1</td>\n",
              "      <td>[ok, i, can, t, stress, enough, to, anyone, an...</td>\n",
              "      <td>[ok, stress, enough, anyone, everyone, go, uni...</td>\n",
              "      <td>ok stress enough anyone everyone go universal ...</td>\n",
              "    </tr>\n",
              "    <tr>\n",
              "      <th>...</th>\n",
              "      <td>...</td>\n",
              "      <td>...</td>\n",
              "      <td>...</td>\n",
              "      <td>...</td>\n",
              "      <td>...</td>\n",
              "      <td>...</td>\n",
              "    </tr>\n",
              "    <tr>\n",
              "      <th>50844</th>\n",
              "      <td>4.0</td>\n",
              "      <td>this is my first visit to a universal studio t...</td>\n",
              "      <td>0</td>\n",
              "      <td>[this, is, my, first, visit, to, a, universal,...</td>\n",
              "      <td>[first, visit, universal, studio, theme, park,...</td>\n",
              "      <td>first visit universal studio theme park went p...</td>\n",
              "    </tr>\n",
              "    <tr>\n",
              "      <th>50845</th>\n",
              "      <td>4.0</td>\n",
              "      <td>we finally visited singapore s very first them...</td>\n",
              "      <td>0</td>\n",
              "      <td>[we, finally, visited, singapore, s, very, fir...</td>\n",
              "      <td>[finally, visited, singapore, first, theme, pa...</td>\n",
              "      <td>finally visited singapore first theme park uni...</td>\n",
              "    </tr>\n",
              "    <tr>\n",
              "      <th>50846</th>\n",
              "      <td>4.0</td>\n",
              "      <td>we visited during the first week of its soft o...</td>\n",
              "      <td>0</td>\n",
              "      <td>[we, visited, during, the, first, week, of, it...</td>\n",
              "      <td>[visited, first, week, soft, opening, unfortun...</td>\n",
              "      <td>visited first week soft opening unfortunately ...</td>\n",
              "    </tr>\n",
              "    <tr>\n",
              "      <th>50847</th>\n",
              "      <td>4.0</td>\n",
              "      <td>we visited on the rd day of the soft opening t...</td>\n",
              "      <td>0</td>\n",
              "      <td>[we, visited, on, the, rd, day, of, the, soft,...</td>\n",
              "      <td>[visited, rd, day, soft, opening, ticket, sale...</td>\n",
              "      <td>visited rd day soft opening ticket sales limit...</td>\n",
              "    </tr>\n",
              "    <tr>\n",
              "      <th>50848</th>\n",
              "      <td>5.0</td>\n",
              "      <td>my group managed to get the tickets for the fe...</td>\n",
              "      <td>1</td>\n",
              "      <td>[my, group, managed, to, get, the, tickets, fo...</td>\n",
              "      <td>[group, managed, get, tickets, february, sneak...</td>\n",
              "      <td>group managed get tickets february sneak previ...</td>\n",
              "    </tr>\n",
              "  </tbody>\n",
              "</table>\n",
              "<p>50849 rows × 6 columns</p>\n",
              "</div>\n",
              "      <button class=\"colab-df-convert\" onclick=\"convertToInteractive('df-f12f526e-1aab-46af-9ac6-1ac762622e85')\"\n",
              "              title=\"Convert this dataframe to an interactive table.\"\n",
              "              style=\"display:none;\">\n",
              "        \n",
              "  <svg xmlns=\"http://www.w3.org/2000/svg\" height=\"24px\"viewBox=\"0 0 24 24\"\n",
              "       width=\"24px\">\n",
              "    <path d=\"M0 0h24v24H0V0z\" fill=\"none\"/>\n",
              "    <path d=\"M18.56 5.44l.94 2.06.94-2.06 2.06-.94-2.06-.94-.94-2.06-.94 2.06-2.06.94zm-11 1L8.5 8.5l.94-2.06 2.06-.94-2.06-.94L8.5 2.5l-.94 2.06-2.06.94zm10 10l.94 2.06.94-2.06 2.06-.94-2.06-.94-.94-2.06-.94 2.06-2.06.94z\"/><path d=\"M17.41 7.96l-1.37-1.37c-.4-.4-.92-.59-1.43-.59-.52 0-1.04.2-1.43.59L10.3 9.45l-7.72 7.72c-.78.78-.78 2.05 0 2.83L4 21.41c.39.39.9.59 1.41.59.51 0 1.02-.2 1.41-.59l7.78-7.78 2.81-2.81c.8-.78.8-2.07 0-2.86zM5.41 20L4 18.59l7.72-7.72 1.47 1.35L5.41 20z\"/>\n",
              "  </svg>\n",
              "      </button>\n",
              "      \n",
              "  <style>\n",
              "    .colab-df-container {\n",
              "      display:flex;\n",
              "      flex-wrap:wrap;\n",
              "      gap: 12px;\n",
              "    }\n",
              "\n",
              "    .colab-df-convert {\n",
              "      background-color: #E8F0FE;\n",
              "      border: none;\n",
              "      border-radius: 50%;\n",
              "      cursor: pointer;\n",
              "      display: none;\n",
              "      fill: #1967D2;\n",
              "      height: 32px;\n",
              "      padding: 0 0 0 0;\n",
              "      width: 32px;\n",
              "    }\n",
              "\n",
              "    .colab-df-convert:hover {\n",
              "      background-color: #E2EBFA;\n",
              "      box-shadow: 0px 1px 2px rgba(60, 64, 67, 0.3), 0px 1px 3px 1px rgba(60, 64, 67, 0.15);\n",
              "      fill: #174EA6;\n",
              "    }\n",
              "\n",
              "    [theme=dark] .colab-df-convert {\n",
              "      background-color: #3B4455;\n",
              "      fill: #D2E3FC;\n",
              "    }\n",
              "\n",
              "    [theme=dark] .colab-df-convert:hover {\n",
              "      background-color: #434B5C;\n",
              "      box-shadow: 0px 1px 3px 1px rgba(0, 0, 0, 0.15);\n",
              "      filter: drop-shadow(0px 1px 2px rgba(0, 0, 0, 0.3));\n",
              "      fill: #FFFFFF;\n",
              "    }\n",
              "  </style>\n",
              "\n",
              "      <script>\n",
              "        const buttonEl =\n",
              "          document.querySelector('#df-f12f526e-1aab-46af-9ac6-1ac762622e85 button.colab-df-convert');\n",
              "        buttonEl.style.display =\n",
              "          google.colab.kernel.accessAllowed ? 'block' : 'none';\n",
              "\n",
              "        async function convertToInteractive(key) {\n",
              "          const element = document.querySelector('#df-f12f526e-1aab-46af-9ac6-1ac762622e85');\n",
              "          const dataTable =\n",
              "            await google.colab.kernel.invokeFunction('convertToInteractive',\n",
              "                                                     [key], {});\n",
              "          if (!dataTable) return;\n",
              "\n",
              "          const docLinkHtml = 'Like what you see? Visit the ' +\n",
              "            '<a target=\"_blank\" href=https://colab.research.google.com/notebooks/data_table.ipynb>data table notebook</a>'\n",
              "            + ' to learn more about interactive tables.';\n",
              "          element.innerHTML = '';\n",
              "          dataTable['output_type'] = 'display_data';\n",
              "          await google.colab.output.renderOutput(dataTable, element);\n",
              "          const docLink = document.createElement('div');\n",
              "          docLink.innerHTML = docLinkHtml;\n",
              "          element.appendChild(docLink);\n",
              "        }\n",
              "      </script>\n",
              "    </div>\n",
              "  </div>\n",
              "  "
            ],
            "text/plain": [
              "       rating  ...                                              clean\n",
              "0         2.0  ...  went universal memorial day weekend total trai...\n",
              "1         1.0  ...  food service horrible reviewing food wait time...\n",
              "2         2.0  ...  booked vacation mainly ride hagrid motorcycle ...\n",
              "3         4.0  ...  person tries test seat rides gets green light ...\n",
              "4         5.0  ...  ok stress enough anyone everyone go universal ...\n",
              "...       ...  ...                                                ...\n",
              "50844     4.0  ...  first visit universal studio theme park went p...\n",
              "50845     4.0  ...  finally visited singapore first theme park uni...\n",
              "50846     4.0  ...  visited first week soft opening unfortunately ...\n",
              "50847     4.0  ...  visited rd day soft opening ticket sales limit...\n",
              "50848     5.0  ...  group managed get tickets february sneak previ...\n",
              "\n",
              "[50849 rows x 6 columns]"
            ]
          },
          "metadata": {},
          "execution_count": 119
        }
      ]
    },
    {
      "cell_type": "markdown",
      "source": [
        "# Feature Extraction"
      ],
      "metadata": {
        "id": "WMu9bdjkoRFe"
      }
    },
    {
      "cell_type": "markdown",
      "source": [
        "## TF-IDF"
      ],
      "metadata": {
        "id": "stzv0MHI5veT"
      }
    },
    {
      "cell_type": "code",
      "source": [
        "from sklearn.feature_extraction.text import TfidfVectorizer\n",
        "tfidf = TfidfVectorizer()\n",
        "text_tfidf = tfidf.fit_transform(df['clean'].values.tolist())\n",
        "text_tfidf.shape"
      ],
      "metadata": {
        "id": "IFs4KHQboUw_",
        "colab": {
          "base_uri": "https://localhost:8080/"
        },
        "outputId": "ff73f89d-fc96-48f1-f5a5-ba8e5db588f7"
      },
      "execution_count": null,
      "outputs": [
        {
          "output_type": "execute_result",
          "data": {
            "text/plain": [
              "(50849, 39434)"
            ]
          },
          "metadata": {},
          "execution_count": 120
        }
      ]
    },
    {
      "cell_type": "markdown",
      "source": [
        "## Split Data"
      ],
      "metadata": {
        "id": "Odt6Fm_f5xHb"
      }
    },
    {
      "cell_type": "code",
      "source": [
        "from sklearn.model_selection import train_test_split\n",
        "x = text_tfidf\n",
        "y = df['sentiment']\n",
        "\n",
        "x_train, x_test, y_train, y_test = train_test_split(x, y, test_size=0.2, random_state=42)\n",
        "\n",
        "print('x Train : ', (x_train.shape))\n",
        "print('y Train : ', (y_train.shape))\n",
        "print('x Test : ', (x_test.shape))\n",
        "print('y Test : ', (y_test.shape))"
      ],
      "metadata": {
        "id": "2InuZlfKpUHA",
        "colab": {
          "base_uri": "https://localhost:8080/"
        },
        "outputId": "2d669ff5-44c7-42f9-a93e-267e5948456d"
      },
      "execution_count": null,
      "outputs": [
        {
          "output_type": "stream",
          "name": "stdout",
          "text": [
            "x Train :  (40679, 39434)\n",
            "y Train :  (40679,)\n",
            "x Test :  (10170, 39434)\n",
            "y Test :  (10170,)\n"
          ]
        }
      ]
    },
    {
      "cell_type": "markdown",
      "source": [
        "# Classification"
      ],
      "metadata": {
        "id": "3rOIDWMUpsNj"
      }
    },
    {
      "cell_type": "markdown",
      "source": [
        "## Decision Tree"
      ],
      "metadata": {
        "id": "Bu4dLVXnoJsn"
      }
    },
    {
      "cell_type": "code",
      "source": [
        "from sklearn import tree\n",
        "start = time()\n",
        "clf = tree.DecisionTreeClassifier()\n",
        "clf.fit(x_train,y_train)\n",
        "predictions_DT = clf.predict(x_test)\n",
        "\n",
        "print('DT Accuracy:', accuracy_score(y_test, predictions_DT))\n",
        "print('DT Precision:', precision_score(y_test, predictions_DT, average=None))\n",
        "print('DT Recall:', recall_score(y_test, predictions_DT, average=None))\n",
        "print('DT f1_score:', f1_score(y_test, predictions_DT, average=None))\n",
        "print('Time : {} menit'.format(round((time() - start) / 60, 2)))"
      ],
      "metadata": {
        "colab": {
          "base_uri": "https://localhost:8080/"
        },
        "id": "2BmOzd0gip6E",
        "outputId": "2d6cf122-f6e6-49a4-d414-dfed0c87d46e"
      },
      "execution_count": null,
      "outputs": [
        {
          "output_type": "stream",
          "name": "stdout",
          "text": [
            "DT Accuracy: 0.6156342182890856\n",
            "DT Precision: [0.57872051 0.64387365]\n",
            "DT Recall: [0.55420378 0.66642716]\n",
            "DT f1_score: [0.56619687 0.65495631]\n",
            "Time : 0.77 menit\n"
          ]
        }
      ]
    },
    {
      "cell_type": "code",
      "source": [
        "from sklearn.metrics import accuracy_score, precision_score, recall_score, f1_score, confusion_matrix, classification_report\n",
        "import seaborn as sns\n",
        "cmdt = confusion_matrix(y_test,predictions_DT)\n",
        "sns.heatmap(cmdt,cmap='BuPu',annot=True,fmt='d')"
      ],
      "metadata": {
        "colab": {
          "base_uri": "https://localhost:8080/",
          "height": 284
        },
        "id": "IlxttlqPm8de",
        "outputId": "c7abea48-14b9-4e2a-d891-4376c8d5de30"
      },
      "execution_count": null,
      "outputs": [
        {
          "output_type": "execute_result",
          "data": {
            "text/plain": [
              "<matplotlib.axes._subplots.AxesSubplot at 0x7fb3d52c9490>"
            ]
          },
          "metadata": {},
          "execution_count": 123
        },
        {
          "output_type": "display_data",
          "data": {
            "image/png": "[encoded data removed]",
            "text/plain": [
              "<Figure size 432x288 with 2 Axes>"
            ]
          },
          "metadata": {
            "needs_background": "light"
          }
        }
      ]
    },
    {
      "cell_type": "code",
      "source": [
        "print(classification_report(y_test, predictions_DT))"
      ],
      "metadata": {
        "colab": {
          "base_uri": "https://localhost:8080/"
        },
        "id": "S987xTsHm-YQ",
        "outputId": "e7f98910-8802-422e-f845-08357405234e"
      },
      "execution_count": null,
      "outputs": [
        {
          "output_type": "stream",
          "name": "stdout",
          "text": [
            "              precision    recall  f1-score   support\n",
            "\n",
            "           0       0.58      0.55      0.57      4603\n",
            "           1       0.64      0.67      0.65      5567\n",
            "\n",
            "    accuracy                           0.62     10170\n",
            "   macro avg       0.61      0.61      0.61     10170\n",
            "weighted avg       0.61      0.62      0.61     10170\n",
            "\n"
          ]
        }
      ]
    },
    {
      "cell_type": "markdown",
      "source": [
        "## K Nearest Neighbor"
      ],
      "metadata": {
        "id": "BotAj_YFoX0B"
      }
    },
    {
      "cell_type": "code",
      "source": [
        "from sklearn import neighbors\n",
        "start = time()\n",
        "clf = neighbors.KNeighborsRegressor(n_neighbors=1)\n",
        "clf.fit(x_train,y_train)\n",
        "predictions_KNN = clf.predict(x_test)\n",
        "\n",
        "print('KNN Accuracy:', accuracy_score(y_test, predictions_KNN))\n",
        "print('KNN Precision:', precision_score(y_test, predictions_KNN, average=None))\n",
        "print('KNN Recall:', recall_score(y_test, predictions_KNN, average=None))\n",
        "print('KNN f1_score:', f1_score(y_test, predictions_KNN, average=None))\n",
        "print('Time : {} menit'.format(round((time() - start) / 60, 2)))"
      ],
      "metadata": {
        "colab": {
          "base_uri": "https://localhost:8080/"
        },
        "id": "2w1kR65nkk4V",
        "outputId": "cb24c483-6785-4b7e-e13a-24fd5ca19679"
      },
      "execution_count": null,
      "outputs": [
        {
          "output_type": "stream",
          "name": "stdout",
          "text": [
            "KNN Accuracy: 0.591740412979351\n",
            "KNN Precision: [0.56422672 0.60624718]\n",
            "KNN Recall: [0.4303715  0.72516616]\n",
            "KNN f1_score: [0.48829184 0.66039588]\n",
            "Time : 0.32 menit\n"
          ]
        }
      ]
    },
    {
      "cell_type": "code",
      "source": [
        "cmknn = confusion_matrix(y_test,predictions_KNN)\n",
        "sns.heatmap(cmknn,cmap='BuPu',annot=True,fmt='d')"
      ],
      "metadata": {
        "colab": {
          "base_uri": "https://localhost:8080/",
          "height": 284
        },
        "id": "EIowEmKynfs9",
        "outputId": "bfbfed14-52f3-4131-938a-b170279cf637"
      },
      "execution_count": null,
      "outputs": [
        {
          "output_type": "execute_result",
          "data": {
            "text/plain": [
              "<matplotlib.axes._subplots.AxesSubplot at 0x7fb3d5090350>"
            ]
          },
          "metadata": {},
          "execution_count": 126
        },
        {
          "output_type": "display_data",
          "data": {
            "image/png": "[encoded data removed]",
            "text/plain": [
              "<Figure size 432x288 with 2 Axes>"
            ]
          },
          "metadata": {
            "needs_background": "light"
          }
        }
      ]
    },
    {
      "cell_type": "code",
      "source": [
        "print(classification_report(y_test, predictions_KNN))"
      ],
      "metadata": {
        "colab": {
          "base_uri": "https://localhost:8080/"
        },
        "id": "gaCJM7a6nmGu",
        "outputId": "04e11a9b-6734-4cf0-b204-7e7f6f2fb281"
      },
      "execution_count": null,
      "outputs": [
        {
          "output_type": "stream",
          "name": "stdout",
          "text": [
            "              precision    recall  f1-score   support\n",
            "\n",
            "           0       0.56      0.43      0.49      4603\n",
            "           1       0.61      0.73      0.66      5567\n",
            "\n",
            "    accuracy                           0.59     10170\n",
            "   macro avg       0.59      0.58      0.57     10170\n",
            "weighted avg       0.59      0.59      0.58     10170\n",
            "\n"
          ]
        }
      ]
    },
    {
      "cell_type": "markdown",
      "source": [
        "## Random Forest"
      ],
      "metadata": {
        "id": "9i6wHQtL59_9"
      }
    },
    {
      "cell_type": "code",
      "source": [
        "from sklearn.ensemble import RandomForestClassifier\n",
        "start = time()\n",
        "RFC = RandomForestClassifier(random_state=0).fit(x_train,y_train)\n",
        "predictions_RFC=RFC.predict(x_test)\n",
        "\n",
        "print('Random Forest Accuracy:', accuracy_score(y_test, predictions_RFC))\n",
        "print('Random Forest Precision:', precision_score(y_test, predictions_RFC, average=None))\n",
        "print('Random Forest Recall:', recall_score(y_test, predictions_RFC, average=None))\n",
        "print('Random Forest f1_score:', f1_score(y_test, predictions_RFC, average=None))\n",
        "print('Time : {} menit'.format(round((time() - start) / 60, 2)))"
      ],
      "metadata": {
        "id": "ctrqZaGVp9_R",
        "colab": {
          "base_uri": "https://localhost:8080/"
        },
        "outputId": "31fcfdfe-6726-44a6-ed16-25234478ecee"
      },
      "execution_count": null,
      "outputs": [
        {
          "output_type": "stream",
          "name": "stdout",
          "text": [
            "Random Forest Accuracy: 0.7158308751229105\n",
            "Random Forest Precision: [0.72557282 0.71002668]\n",
            "Random Forest Recall: [0.5985227  0.81282558]\n",
            "Random Forest f1_score: [0.65595238 0.75795645]\n",
            "Time : 2.46 menit\n"
          ]
        }
      ]
    },
    {
      "cell_type": "code",
      "source": [
        "cmrfc = confusion_matrix(y_test,predictions_RFC)\n",
        "sns.heatmap(cmrfc,cmap='BuPu',annot=True,fmt='d')"
      ],
      "metadata": {
        "id": "emNEYtVfqv3C",
        "colab": {
          "base_uri": "https://localhost:8080/",
          "height": 286
        },
        "outputId": "4141d561-9727-4ae8-f958-5e4cbdf71391"
      },
      "execution_count": null,
      "outputs": [
        {
          "output_type": "execute_result",
          "data": {
            "text/plain": [
              "<matplotlib.axes._subplots.AxesSubplot at 0x7fb3ed8b2750>"
            ]
          },
          "metadata": {},
          "execution_count": 129
        },
        {
          "output_type": "display_data",
          "data": {
            "image/png": "[encoded data removed]",
            "text/plain": [
              "<Figure size 432x288 with 2 Axes>"
            ]
          },
          "metadata": {
            "needs_background": "light"
          }
        }
      ]
    },
    {
      "cell_type": "code",
      "source": [
        "print(classification_report(y_test, predictions_RFC))"
      ],
      "metadata": {
        "id": "RfNGotKlhPLA",
        "colab": {
          "base_uri": "https://localhost:8080/"
        },
        "outputId": "be40c6c9-fdb2-47ac-8037-244faabc75b4"
      },
      "execution_count": null,
      "outputs": [
        {
          "output_type": "stream",
          "name": "stdout",
          "text": [
            "              precision    recall  f1-score   support\n",
            "\n",
            "           0       0.73      0.60      0.66      4603\n",
            "           1       0.71      0.81      0.76      5567\n",
            "\n",
            "    accuracy                           0.72     10170\n",
            "   macro avg       0.72      0.71      0.71     10170\n",
            "weighted avg       0.72      0.72      0.71     10170\n",
            "\n"
          ]
        }
      ]
    },
    {
      "cell_type": "markdown",
      "source": [
        "# Conclusion"
      ],
      "metadata": {
        "id": "cWlM36kg6L3A"
      }
    },
    {
      "cell_type": "code",
      "source": [
        "print('Hasil Akhir')\n",
        "print('Decision Tree Accuracy:', accuracy_score(y_test, predictions_DT))\n",
        "print('K Nearest Neighbor Accuracy:', accuracy_score(y_test, predictions_KNN))\n",
        "print('Random Forest Accuracy:', accuracy_score(y_test, predictions_RFC))"
      ],
      "metadata": {
        "id": "QzUw3Pruke8z",
        "colab": {
          "base_uri": "https://localhost:8080/"
        },
        "outputId": "02f5f040-b19e-4913-9f8b-ad9b66df2175"
      },
      "execution_count": null,
      "outputs": [
        {
          "output_type": "stream",
          "name": "stdout",
          "text": [
            "Hasil Akhir\n",
            "Decision Tree Accuracy: 0.6156342182890856\n",
            "K Nearest Neighbor Accuracy: 0.591740412979351\n",
            "Random Forest Accuracy: 0.7158308751229105\n"
          ]
        }
      ]
    }
  ]
}